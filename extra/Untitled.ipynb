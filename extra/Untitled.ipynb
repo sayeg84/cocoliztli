{
 "cells": [
  {
   "cell_type": "code",
   "execution_count": 1,
   "metadata": {},
   "outputs": [
    {
     "data": {
      "text/html": [
       "<script>\n",
       "// Immediately-invoked-function-expression to avoid global variables.\n",
       "(function() {\n",
       "    var warning_div = document.getElementById(\"webio-warning-15666901630492437969\");\n",
       "    var hide = function () {\n",
       "        var script = document.getElementById(\"webio-setup-8224764507639121892\");\n",
       "        var parent = script && script.parentElement;\n",
       "        var grandparent = parent && parent.parentElement;\n",
       "        if (grandparent) {\n",
       "            grandparent.style.display = \"none\";\n",
       "        }\n",
       "        warning_div.style.display = \"none\";\n",
       "    };\n",
       "    if (typeof Jupyter !== \"undefined\") {\n",
       "        console.log(\"WebIO detected Jupyter notebook environment.\");\n",
       "        // Jupyter notebook.\n",
       "        var extensions = (\n",
       "            Jupyter\n",
       "            && Jupyter.notebook.config.data\n",
       "            && Jupyter.notebook.config.data.load_extensions\n",
       "        );\n",
       "        if (extensions && extensions[\"webio-jupyter-notebook\"]) {\n",
       "            // Extension already loaded.\n",
       "            console.log(\"Jupyter WebIO nbextension detected; not loading ad-hoc.\");\n",
       "            hide();\n",
       "            return;\n",
       "        }\n",
       "    } else if (window.location.pathname.includes(\"/lab\")) {\n",
       "        // Guessing JupyterLa\n",
       "        console.log(\"Jupyter Lab detected; make sure the @webio/jupyter-lab-provider labextension is installed.\");\n",
       "        hide();\n",
       "        return;\n",
       "    }\n",
       "})();\n",
       "\n",
       "</script>\n",
       "<p\n",
       "    id=\"webio-warning-15666901630492437969\"\n",
       "    class=\"output_text output_stderr\"\n",
       "    style=\"padding: 1em; font-weight: bold;\"\n",
       ">\n",
       "    Unable to load WebIO. Please make sure WebIO works for your Jupyter client.\n",
       "    For troubleshooting, please see <a href=\"https://juliagizmos.github.io/WebIO.jl/latest/providers/ijulia/\">\n",
       "    the WebIO/IJulia documentation</a>.\n",
       "    <!-- TODO: link to installation docs. -->\n",
       "</p>\n"
      ],
      "text/plain": [
       "HTML{String}(\"<script>\\n// Immediately-invoked-function-expression to avoid global variables.\\n(function() {\\n    var warning_div = document.getElementById(\\\"webio-warning-15666901630492437969\\\");\\n    var hide = function () {\\n        var script = document.getElementById(\\\"webio-setup-8224764507639121892\\\");\\n        var parent = script && script.parentElement;\\n        var grandparent = parent && parent.parentElement;\\n        if (grandparent) {\\n            grandparent.style.display = \\\"none\\\";\\n        }\\n        warning_div.style.display = \\\"none\\\";\\n    };\\n    if (typeof Jupyter !== \\\"undefined\\\") {\\n        console.log(\\\"WebIO detected Jupyter notebook environment.\\\");\\n        // Jupyter notebook.\\n        var extensions = (\\n            Jupyter\\n            && Jupyter.notebook.config.data\\n            && Jupyter.notebook.config.data.load_extensions\\n        );\\n        if (extensions && extensions[\\\"webio-jupyter-notebook\\\"]) {\\n            // Extension already loaded.\\n            console.log(\\\"Jupyter WebIO nbextension detected; not loading ad-hoc.\\\");\\n            hide();\\n            return;\\n        }\\n    } else if (window.location.pathname.includes(\\\"/lab\\\")) {\\n        // Guessing JupyterLa\\n        console.log(\\\"Jupyter Lab detected; make sure the @webio/jupyter-lab-provider labextension is installed.\\\");\\n        hide();\\n        return;\\n    }\\n})();\\n\\n</script>\\n<p\\n    id=\\\"webio-warning-15666901630492437969\\\"\\n    class=\\\"output_text output_stderr\\\"\\n    style=\\\"padding: 1em; font-weight: bold;\\\"\\n>\\n    Unable to load WebIO. Please make sure WebIO works for your Jupyter client.\\n    For troubleshooting, please see <a href=\\\"https://juliagizmos.github.io/WebIO.jl/latest/providers/ijulia/\\\">\\n    the WebIO/IJulia documentation</a>.\\n    <!-- TODO: link to installation docs. -->\\n</p>\\n\")"
      ]
     },
     "metadata": {},
     "output_type": "display_data"
    }
   ],
   "source": [
    "using Distributions, Plots, Interact"
   ]
  },
  {
   "cell_type": "code",
   "execution_count": 2,
   "metadata": {},
   "outputs": [
    {
     "data": {
      "image/svg+xml": [
       "<?xml version=\"1.0\" encoding=\"utf-8\"?>\n",
       "<svg xmlns=\"http://www.w3.org/2000/svg\" xmlns:xlink=\"http://www.w3.org/1999/xlink\" width=\"600\" height=\"400\" viewBox=\"0 0 2400 1600\">\n",
       "<defs>\n",
       "  <clipPath id=\"clip080\">\n",
       "    <rect x=\"0\" y=\"0\" width=\"2400\" height=\"1600\"/>\n",
       "  </clipPath>\n",
       "</defs>\n",
       "<path clip-path=\"url(#clip080)\" d=\"\n",
       "M0 1600 L2400 1600 L2400 0 L0 0  Z\n",
       "  \" fill=\"#ffffff\" fill-rule=\"evenodd\" fill-opacity=\"1\"/>\n",
       "<defs>\n",
       "  <clipPath id=\"clip081\">\n",
       "    <rect x=\"480\" y=\"0\" width=\"1681\" height=\"1600\"/>\n",
       "  </clipPath>\n",
       "</defs>\n",
       "<path clip-path=\"url(#clip080)\" d=\"\n",
       "M134.584 1486.45 L2352.76 1486.45 L2352.76 47.2441 L134.584 47.2441  Z\n",
       "  \" fill=\"#ffffff\" fill-rule=\"evenodd\" fill-opacity=\"1\"/>\n",
       "<defs>\n",
       "  <clipPath id=\"clip082\">\n",
       "    <rect x=\"134\" y=\"47\" width=\"2219\" height=\"1440\"/>\n",
       "  </clipPath>\n",
       "</defs>\n",
       "<polyline clip-path=\"url(#clip082)\" style=\"stroke:#000000; stroke-width:2; stroke-opacity:0.1; fill:none\" points=\"\n",
       "  429.876,1486.45 429.876,47.2441 \n",
       "  \"/>\n",
       "<polyline clip-path=\"url(#clip082)\" style=\"stroke:#000000; stroke-width:2; stroke-opacity:0.1; fill:none\" points=\"\n",
       "  894.901,1486.45 894.901,47.2441 \n",
       "  \"/>\n",
       "<polyline clip-path=\"url(#clip082)\" style=\"stroke:#000000; stroke-width:2; stroke-opacity:0.1; fill:none\" points=\"\n",
       "  1359.93,1486.45 1359.93,47.2441 \n",
       "  \"/>\n",
       "<polyline clip-path=\"url(#clip082)\" style=\"stroke:#000000; stroke-width:2; stroke-opacity:0.1; fill:none\" points=\"\n",
       "  1824.95,1486.45 1824.95,47.2441 \n",
       "  \"/>\n",
       "<polyline clip-path=\"url(#clip082)\" style=\"stroke:#000000; stroke-width:2; stroke-opacity:0.1; fill:none\" points=\"\n",
       "  2289.98,1486.45 2289.98,47.2441 \n",
       "  \"/>\n",
       "<polyline clip-path=\"url(#clip080)\" style=\"stroke:#000000; stroke-width:4; stroke-opacity:1; fill:none\" points=\"\n",
       "  134.584,1486.45 2352.76,1486.45 \n",
       "  \"/>\n",
       "<polyline clip-path=\"url(#clip080)\" style=\"stroke:#000000; stroke-width:4; stroke-opacity:1; fill:none\" points=\"\n",
       "  429.876,1486.45 429.876,1469.18 \n",
       "  \"/>\n",
       "<polyline clip-path=\"url(#clip080)\" style=\"stroke:#000000; stroke-width:4; stroke-opacity:1; fill:none\" points=\"\n",
       "  894.901,1486.45 894.901,1469.18 \n",
       "  \"/>\n",
       "<polyline clip-path=\"url(#clip080)\" style=\"stroke:#000000; stroke-width:4; stroke-opacity:1; fill:none\" points=\"\n",
       "  1359.93,1486.45 1359.93,1469.18 \n",
       "  \"/>\n",
       "<polyline clip-path=\"url(#clip080)\" style=\"stroke:#000000; stroke-width:4; stroke-opacity:1; fill:none\" points=\"\n",
       "  1824.95,1486.45 1824.95,1469.18 \n",
       "  \"/>\n",
       "<polyline clip-path=\"url(#clip080)\" style=\"stroke:#000000; stroke-width:4; stroke-opacity:1; fill:none\" points=\"\n",
       "  2289.98,1486.45 2289.98,1469.18 \n",
       "  \"/>\n",
       "<path clip-path=\"url(#clip080)\" d=\"M 0 0 M424.528 1543.18 L440.848 1543.18 L440.848 1547.12 L418.903 1547.12 L418.903 1543.18 Q421.565 1540.43 426.149 1535.8 Q430.755 1531.15 431.936 1529.81 Q434.181 1527.28 435.061 1525.55 Q435.964 1523.79 435.964 1522.1 Q435.964 1519.34 434.019 1517.61 Q432.098 1515.87 428.996 1515.87 Q426.797 1515.87 424.343 1516.63 Q421.913 1517.4 419.135 1518.95 L419.135 1514.23 Q421.959 1513.09 424.413 1512.51 Q426.866 1511.93 428.903 1511.93 Q434.274 1511.93 437.468 1514.62 Q440.663 1517.31 440.663 1521.8 Q440.663 1523.93 439.852 1525.85 Q439.065 1527.74 436.959 1530.34 Q436.38 1531.01 433.278 1534.23 Q430.177 1537.42 424.528 1543.18 Z\" fill=\"#000000\" fill-rule=\"evenodd\" fill-opacity=\"1\" /><path clip-path=\"url(#clip080)\" d=\"M 0 0 M897.91 1516.63 L886.105 1535.08 L897.91 1535.08 L897.91 1516.63 M896.683 1512.56 L902.563 1512.56 L902.563 1535.08 L907.494 1535.08 L907.494 1538.97 L902.563 1538.97 L902.563 1547.12 L897.91 1547.12 L897.91 1538.97 L882.309 1538.97 L882.309 1534.46 L896.683 1512.56 Z\" fill=\"#000000\" fill-rule=\"evenodd\" fill-opacity=\"1\" /><path clip-path=\"url(#clip080)\" d=\"M 0 0 M1360.33 1527.98 Q1357.18 1527.98 1355.33 1530.13 Q1353.5 1532.28 1353.5 1536.03 Q1353.5 1539.76 1355.33 1541.93 Q1357.18 1544.09 1360.33 1544.09 Q1363.48 1544.09 1365.31 1541.93 Q1367.16 1539.76 1367.16 1536.03 Q1367.16 1532.28 1365.31 1530.13 Q1363.48 1527.98 1360.33 1527.98 M1369.61 1513.32 L1369.61 1517.58 Q1367.85 1516.75 1366.05 1516.31 Q1364.27 1515.87 1362.51 1515.87 Q1357.88 1515.87 1355.42 1519 Q1352.99 1522.12 1352.65 1528.44 Q1354.01 1526.43 1356.07 1525.36 Q1358.13 1524.27 1360.61 1524.27 Q1365.82 1524.27 1368.83 1527.44 Q1371.86 1530.59 1371.86 1536.03 Q1371.86 1541.36 1368.71 1544.57 Q1365.56 1547.79 1360.33 1547.79 Q1354.34 1547.79 1351.17 1543.21 Q1347.99 1538.6 1347.99 1529.87 Q1347.99 1521.68 1351.88 1516.82 Q1355.77 1511.93 1362.32 1511.93 Q1364.08 1511.93 1365.86 1512.28 Q1367.67 1512.63 1369.61 1513.32 Z\" fill=\"#000000\" fill-rule=\"evenodd\" fill-opacity=\"1\" /><path clip-path=\"url(#clip080)\" d=\"M 0 0 M1824.95 1530.71 Q1821.62 1530.71 1819.7 1532.49 Q1817.8 1534.27 1817.8 1537.4 Q1817.8 1540.52 1819.7 1542.31 Q1821.62 1544.09 1824.95 1544.09 Q1828.29 1544.09 1830.21 1542.31 Q1832.13 1540.5 1832.13 1537.4 Q1832.13 1534.27 1830.21 1532.49 Q1828.31 1530.71 1824.95 1530.71 M1820.28 1528.72 Q1817.27 1527.98 1815.58 1525.92 Q1813.91 1523.86 1813.91 1520.89 Q1813.91 1516.75 1816.85 1514.34 Q1819.81 1511.93 1824.95 1511.93 Q1830.11 1511.93 1833.05 1514.34 Q1835.99 1516.75 1835.99 1520.89 Q1835.99 1523.86 1834.3 1525.92 Q1832.64 1527.98 1829.65 1528.72 Q1833.03 1529.5 1834.91 1531.8 Q1836.8 1534.09 1836.8 1537.4 Q1836.8 1542.42 1833.73 1545.11 Q1830.67 1547.79 1824.95 1547.79 Q1819.23 1547.79 1816.16 1545.11 Q1813.1 1542.42 1813.1 1537.4 Q1813.1 1534.09 1815 1531.8 Q1816.9 1529.5 1820.28 1528.72 M1818.56 1521.33 Q1818.56 1524.02 1820.23 1525.52 Q1821.92 1527.03 1824.95 1527.03 Q1827.96 1527.03 1829.65 1525.52 Q1831.36 1524.02 1831.36 1521.33 Q1831.36 1518.65 1829.65 1517.14 Q1827.96 1515.64 1824.95 1515.64 Q1821.92 1515.64 1820.23 1517.14 Q1818.56 1518.65 1818.56 1521.33 Z\" fill=\"#000000\" fill-rule=\"evenodd\" fill-opacity=\"1\" /><path clip-path=\"url(#clip080)\" d=\"M 0 0 M2266.85 1543.18 L2274.49 1543.18 L2274.49 1516.82 L2266.18 1518.49 L2266.18 1514.23 L2274.45 1512.56 L2279.12 1512.56 L2279.12 1543.18 L2286.76 1543.18 L2286.76 1547.12 L2266.85 1547.12 L2266.85 1543.18 Z\" fill=\"#000000\" fill-rule=\"evenodd\" fill-opacity=\"1\" /><path clip-path=\"url(#clip080)\" d=\"M 0 0 M2301.83 1515.64 Q2298.22 1515.64 2296.39 1519.2 Q2294.58 1522.75 2294.58 1529.87 Q2294.58 1536.98 2296.39 1540.55 Q2298.22 1544.09 2301.83 1544.09 Q2305.46 1544.09 2307.27 1540.55 Q2309.1 1536.98 2309.1 1529.87 Q2309.1 1522.75 2307.27 1519.2 Q2305.46 1515.64 2301.83 1515.64 M2301.83 1511.93 Q2307.64 1511.93 2310.69 1516.54 Q2313.77 1521.12 2313.77 1529.87 Q2313.77 1538.6 2310.69 1543.21 Q2307.64 1547.79 2301.83 1547.79 Q2296.02 1547.79 2292.94 1543.21 Q2289.88 1538.6 2289.88 1529.87 Q2289.88 1521.12 2292.94 1516.54 Q2296.02 1511.93 2301.83 1511.93 Z\" fill=\"#000000\" fill-rule=\"evenodd\" fill-opacity=\"1\" /><polyline clip-path=\"url(#clip082)\" style=\"stroke:#000000; stroke-width:2; stroke-opacity:0.1; fill:none\" points=\"\n",
       "  134.584,1294.86 2352.76,1294.86 \n",
       "  \"/>\n",
       "<polyline clip-path=\"url(#clip082)\" style=\"stroke:#000000; stroke-width:2; stroke-opacity:0.1; fill:none\" points=\"\n",
       "  134.584,993.136 2352.76,993.136 \n",
       "  \"/>\n",
       "<polyline clip-path=\"url(#clip082)\" style=\"stroke:#000000; stroke-width:2; stroke-opacity:0.1; fill:none\" points=\"\n",
       "  134.584,691.416 2352.76,691.416 \n",
       "  \"/>\n",
       "<polyline clip-path=\"url(#clip082)\" style=\"stroke:#000000; stroke-width:2; stroke-opacity:0.1; fill:none\" points=\"\n",
       "  134.584,389.696 2352.76,389.696 \n",
       "  \"/>\n",
       "<polyline clip-path=\"url(#clip082)\" style=\"stroke:#000000; stroke-width:2; stroke-opacity:0.1; fill:none\" points=\"\n",
       "  134.584,87.9763 2352.76,87.9763 \n",
       "  \"/>\n",
       "<polyline clip-path=\"url(#clip080)\" style=\"stroke:#000000; stroke-width:4; stroke-opacity:1; fill:none\" points=\"\n",
       "  134.584,1486.45 134.584,47.2441 \n",
       "  \"/>\n",
       "<polyline clip-path=\"url(#clip080)\" style=\"stroke:#000000; stroke-width:4; stroke-opacity:1; fill:none\" points=\"\n",
       "  134.584,1294.86 161.203,1294.86 \n",
       "  \"/>\n",
       "<polyline clip-path=\"url(#clip080)\" style=\"stroke:#000000; stroke-width:4; stroke-opacity:1; fill:none\" points=\"\n",
       "  134.584,993.136 161.203,993.136 \n",
       "  \"/>\n",
       "<polyline clip-path=\"url(#clip080)\" style=\"stroke:#000000; stroke-width:4; stroke-opacity:1; fill:none\" points=\"\n",
       "  134.584,691.416 161.203,691.416 \n",
       "  \"/>\n",
       "<polyline clip-path=\"url(#clip080)\" style=\"stroke:#000000; stroke-width:4; stroke-opacity:1; fill:none\" points=\"\n",
       "  134.584,389.696 161.203,389.696 \n",
       "  \"/>\n",
       "<polyline clip-path=\"url(#clip080)\" style=\"stroke:#000000; stroke-width:4; stroke-opacity:1; fill:none\" points=\"\n",
       "  134.584,87.9763 161.203,87.9763 \n",
       "  \"/>\n",
       "<path clip-path=\"url(#clip080)\" d=\"M 0 0 M82.2651 1308.2 L98.5845 1308.2 L98.5845 1312.14 L76.6401 1312.14 L76.6401 1308.2 Q79.3022 1305.45 83.8855 1300.82 Q88.4919 1296.16 89.6725 1294.82 Q91.9178 1292.3 92.7975 1290.56 Q93.7002 1288.8 93.7002 1287.11 Q93.7002 1284.36 91.7558 1282.62 Q89.8345 1280.89 86.7327 1280.89 Q84.5336 1280.89 82.0799 1281.65 Q79.6494 1282.41 76.8716 1283.96 L76.8716 1279.24 Q79.6957 1278.11 82.1494 1277.53 Q84.6031 1276.95 86.6401 1276.95 Q92.0104 1276.95 95.2049 1279.64 Q98.3993 1282.32 98.3993 1286.81 Q98.3993 1288.94 97.5891 1290.86 Q96.8021 1292.76 94.6956 1295.35 Q94.1169 1296.02 91.0151 1299.24 Q87.9132 1302.44 82.2651 1308.2 Z\" fill=\"#000000\" fill-rule=\"evenodd\" fill-opacity=\"1\" /><path clip-path=\"url(#clip080)\" d=\"M 0 0 M89.0012 979.93 L77.1957 998.379 L89.0012 998.379 L89.0012 979.93 M87.7743 975.856 L93.6539 975.856 L93.6539 998.379 L98.5845 998.379 L98.5845 1002.27 L93.6539 1002.27 L93.6539 1010.42 L89.0012 1010.42 L89.0012 1002.27 L73.3994 1002.27 L73.3994 997.754 L87.7743 975.856 Z\" fill=\"#000000\" fill-rule=\"evenodd\" fill-opacity=\"1\" /><path clip-path=\"url(#clip080)\" d=\"M 0 0 M87.0567 689.553 Q83.9086 689.553 82.0568 691.705 Q80.2281 693.858 80.2281 697.608 Q80.2281 701.335 82.0568 703.511 Q83.9086 705.664 87.0567 705.664 Q90.2049 705.664 92.0336 703.511 Q93.8854 701.335 93.8854 697.608 Q93.8854 693.858 92.0336 691.705 Q90.2049 689.553 87.0567 689.553 M96.3391 674.9 L96.3391 679.159 Q94.5799 678.326 92.7743 677.886 Q90.9919 677.446 89.2327 677.446 Q84.6031 677.446 82.1494 680.571 Q79.7188 683.696 79.3716 690.016 Q80.7373 688.002 82.7975 686.937 Q84.8577 685.849 87.3345 685.849 Q92.5428 685.849 95.5521 689.02 Q98.5845 692.168 98.5845 697.608 Q98.5845 702.932 95.4363 706.15 Q92.2882 709.367 87.0567 709.367 Q81.0614 709.367 77.8901 704.784 Q74.7189 700.178 74.7189 691.451 Q74.7189 683.256 78.6077 678.395 Q82.4966 673.511 89.0475 673.511 Q90.8067 673.511 92.5891 673.858 Q94.3947 674.205 96.3391 674.9 Z\" fill=\"#000000\" fill-rule=\"evenodd\" fill-opacity=\"1\" /><path clip-path=\"url(#clip080)\" d=\"M 0 0 M86.7327 390.564 Q83.3994 390.564 81.4781 392.347 Q79.5799 394.129 79.5799 397.254 Q79.5799 400.379 81.4781 402.161 Q83.3994 403.944 86.7327 403.944 Q90.066 403.944 91.9873 402.161 Q93.9086 400.356 93.9086 397.254 Q93.9086 394.129 91.9873 392.347 Q90.0891 390.564 86.7327 390.564 M82.0568 388.573 Q79.0475 387.833 77.3577 385.773 Q75.6911 383.712 75.6911 380.749 Q75.6911 376.606 78.6309 374.199 Q81.5938 371.791 86.7327 371.791 Q91.8947 371.791 94.8345 374.199 Q97.7743 376.606 97.7743 380.749 Q97.7743 383.712 96.0845 385.773 Q94.4178 387.833 91.4317 388.573 Q94.8113 389.361 96.6863 391.652 Q98.5845 393.944 98.5845 397.254 Q98.5845 402.277 95.5058 404.962 Q92.4502 407.647 86.7327 407.647 Q81.0151 407.647 77.9364 404.962 Q74.8809 402.277 74.8809 397.254 Q74.8809 393.944 76.779 391.652 Q78.6772 389.361 82.0568 388.573 M80.3438 381.189 Q80.3438 383.874 82.0105 385.379 Q83.7003 386.884 86.7327 386.884 Q89.7419 386.884 91.4317 385.379 Q93.1447 383.874 93.1447 381.189 Q93.1447 378.504 91.4317 376.999 Q89.7419 375.495 86.7327 375.495 Q83.7003 375.495 82.0105 376.999 Q80.3438 378.504 80.3438 381.189 Z\" fill=\"#000000\" fill-rule=\"evenodd\" fill-opacity=\"1\" /><path clip-path=\"url(#clip080)\" d=\"M 0 0 M51.6634 101.321 L59.3023 101.321 L59.3023 74.9555 L50.9921 76.6222 L50.9921 72.3629 L59.256 70.6963 L63.9319 70.6963 L63.9319 101.321 L71.5707 101.321 L71.5707 105.256 L51.6634 105.256 L51.6634 101.321 Z\" fill=\"#000000\" fill-rule=\"evenodd\" fill-opacity=\"1\" /><path clip-path=\"url(#clip080)\" d=\"M 0 0 M86.6401 73.775 Q83.029 73.775 81.2003 77.3398 Q79.3948 80.8814 79.3948 88.011 Q79.3948 95.1174 81.2003 98.6822 Q83.029 102.224 86.6401 102.224 Q90.2743 102.224 92.0799 98.6822 Q93.9086 95.1174 93.9086 88.011 Q93.9086 80.8814 92.0799 77.3398 Q90.2743 73.775 86.6401 73.775 M86.6401 70.0713 Q92.4502 70.0713 95.5058 74.6777 Q98.5845 79.261 98.5845 88.011 Q98.5845 96.7378 95.5058 101.344 Q92.4502 105.928 86.6401 105.928 Q80.8299 105.928 77.7512 101.344 Q74.6957 96.7378 74.6957 88.011 Q74.6957 79.261 77.7512 74.6777 Q80.8299 70.0713 86.6401 70.0713 Z\" fill=\"#000000\" fill-rule=\"evenodd\" fill-opacity=\"1\" /><polyline clip-path=\"url(#clip082)\" style=\"stroke:#009af9; stroke-width:4; stroke-opacity:1; fill:none\" points=\"\n",
       "  197.363,1445.72 429.876,1294.86 662.388,1144 894.901,993.136 1127.41,842.276 1359.93,691.416 1592.44,540.556 1824.95,389.696 2057.46,238.836 2289.98,87.9763 \n",
       "  \n",
       "  \"/>\n",
       "<path clip-path=\"url(#clip080)\" d=\"\n",
       "M1981.34 216.178 L2278.82 216.178 L2278.82 95.2176 L1981.34 95.2176  Z\n",
       "  \" fill=\"#ffffff\" fill-rule=\"evenodd\" fill-opacity=\"1\"/>\n",
       "<polyline clip-path=\"url(#clip080)\" style=\"stroke:#000000; stroke-width:4; stroke-opacity:1; fill:none\" points=\"\n",
       "  1981.34,216.178 2278.82,216.178 2278.82,95.2176 1981.34,95.2176 1981.34,216.178 \n",
       "  \"/>\n",
       "<polyline clip-path=\"url(#clip080)\" style=\"stroke:#009af9; stroke-width:4; stroke-opacity:1; fill:none\" points=\"\n",
       "  2005.98,155.698 2153.86,155.698 \n",
       "  \"/>\n",
       "<path clip-path=\"url(#clip080)\" d=\"M 0 0 M2192.35 175.385 Q2190.54 180.015 2188.83 181.427 Q2187.12 182.839 2184.25 182.839 L2180.84 182.839 L2180.84 179.274 L2183.34 179.274 Q2185.1 179.274 2186.08 178.44 Q2187.05 177.607 2188.23 174.505 L2188.99 172.561 L2178.51 147.052 L2183.02 147.052 L2191.12 167.329 L2199.22 147.052 L2203.74 147.052 L2192.35 175.385 Z\" fill=\"#000000\" fill-rule=\"evenodd\" fill-opacity=\"1\" /><path clip-path=\"url(#clip080)\" d=\"M 0 0 M2209.62 169.042 L2217.26 169.042 L2217.26 142.677 L2208.95 144.343 L2208.95 140.084 L2217.21 138.418 L2221.89 138.418 L2221.89 169.042 L2229.52 169.042 L2229.52 172.978 L2209.62 172.978 L2209.62 169.042 Z\" fill=\"#000000\" fill-rule=\"evenodd\" fill-opacity=\"1\" /></svg>\n"
      ]
     },
     "execution_count": 2,
     "metadata": {},
     "output_type": "execute_result"
    }
   ],
   "source": [
    "plot(1:10)"
   ]
  },
  {
   "cell_type": "code",
   "execution_count": 10,
   "metadata": {},
   "outputs": [
    {
     "data": {
      "application/vnd.webio.node+json": {
       "children": [
        {
         "children": [
          {
           "children": [
            {
             "children": [
              {
               "children": [
                {
                 "children": [
                  "k"
                 ],
                 "instanceArgs": {
                  "namespace": "html",
                  "tag": "label"
                 },
                 "nodeType": "DOM",
                 "props": {
                  "className": "interact ",
                  "style": {
                   "padding": "5px 10px 0px 10px"
                  }
                 },
                 "type": "node"
                }
               ],
               "instanceArgs": {
                "namespace": "html",
                "tag": "div"
               },
               "nodeType": "DOM",
               "props": {
                "className": "interact-flex-row-left"
               },
               "type": "node"
              },
              {
               "children": [
                {
                 "children": [],
                 "instanceArgs": {
                  "namespace": "html",
                  "tag": "input"
                 },
                 "nodeType": "DOM",
                 "props": {
                  "attributes": {
                   "data-bind": "numericValue: index, valueUpdate: 'input', event: {change: function (){this.changes(this.changes()+1)}}",
                   "orient": "horizontal",
                   "type": "range"
                  },
                  "className": "slider slider is-fullwidth",
                  "max": 51,
                  "min": 1,
                  "step": 1,
                  "style": {}
                 },
                 "type": "node"
                }
               ],
               "instanceArgs": {
                "namespace": "html",
                "tag": "div"
               },
               "nodeType": "DOM",
               "props": {
                "className": "interact-flex-row-center"
               },
               "type": "node"
              },
              {
               "children": [
                {
                 "children": [],
                 "instanceArgs": {
                  "namespace": "html",
                  "tag": "p"
                 },
                 "nodeType": "DOM",
                 "props": {
                  "attributes": {
                   "data-bind": "text: formatted_val"
                  }
                 },
                 "type": "node"
                }
               ],
               "instanceArgs": {
                "namespace": "html",
                "tag": "div"
               },
               "nodeType": "DOM",
               "props": {
                "className": "interact-flex-row-right"
               },
               "type": "node"
              }
             ],
             "instanceArgs": {
              "namespace": "html",
              "tag": "div"
             },
             "nodeType": "DOM",
             "props": {
              "className": "interact-flex-row interact-widget"
             },
             "type": "node"
            }
           ],
           "instanceArgs": {
            "handlers": {
             "changes": [
              "(function (val){return (val!=this.model[\"changes\"]()) ? (this.valueFromJulia[\"changes\"]=true, this.model[\"changes\"](val)) : undefined})"
             ],
             "index": [
              "(function (val){return (val!=this.model[\"index\"]()) ? (this.valueFromJulia[\"index\"]=true, this.model[\"index\"](val)) : undefined})"
             ]
            },
            "id": "8530363249624264703",
            "imports": {
             "data": [
              {
               "name": "knockout",
               "type": "js",
               "url": "/assetserver/7ce5fb94901cd9817b0d2f5c55656bbbc8077c10-knockout.js"
              },
              {
               "name": "knockout_punches",
               "type": "js",
               "url": "/assetserver/bd9fbe3cc592c27356f31921aa080f1c09d2cb5d-knockout_punches.js"
              },
              {
               "name": null,
               "type": "js",
               "url": "/assetserver/53a4a020ad3c5d89d02f3f5e8374f2fa3d38bcf9-all.js"
              },
              {
               "name": null,
               "type": "css",
               "url": "/assetserver/543c2aa71619908ee80841774e58af2a8a854d60-style.css"
              },
              {
               "name": null,
               "type": "css",
               "url": "/assetserver/62b0c7544019fc934d3511d29e7b58032a866f63-bulma_confined.min.css"
              }
             ],
             "type": "async_block"
            },
            "mount_callbacks": [
             "function () {\n    var handler = (function (ko, koPunches) {\n    ko.punches.enableAll();\n    ko.bindingHandlers.numericValue = {\n        init: function(element, valueAccessor, allBindings, data, context) {\n            var stringified = ko.observable(ko.unwrap(valueAccessor()));\n            stringified.subscribe(function(value) {\n                var val = parseFloat(value);\n                if (!isNaN(val)) {\n                    valueAccessor()(val);\n                }\n            });\n            valueAccessor().subscribe(function(value) {\n                var str = JSON.stringify(value);\n                if ((str == \"0\") && ([\"-0\", \"-0.\"].indexOf(stringified()) >= 0))\n                     return;\n                 if ([\"null\", \"\"].indexOf(str) >= 0)\n                     return;\n                stringified(str);\n            });\n            ko.applyBindingsToNode(\n                element,\n                {\n                    value: stringified,\n                    valueUpdate: allBindings.get('valueUpdate'),\n                },\n                context,\n            );\n        }\n    };\n    var json_data = {\"formatted_vals\":[\"0.5\",\"0.89\",\"1.28\",\"1.67\",\"2.06\",\"2.45\",\"2.84\",\"3.23\",\"3.62\",\"4.01\",\"4.4\",\"4.79\",\"5.18\",\"5.57\",\"5.96\",\"6.35\",\"6.74\",\"7.13\",\"7.52\",\"7.91\",\"8.3\",\"8.69\",\"9.08\",\"9.47\",\"9.86\",\"10.25\",\"10.64\",\"11.03\",\"11.42\",\"11.81\",\"12.2\",\"12.59\",\"12.98\",\"13.37\",\"13.76\",\"14.15\",\"14.54\",\"14.93\",\"15.32\",\"15.71\",\"16.1\",\"16.49\",\"16.88\",\"17.27\",\"17.66\",\"18.05\",\"18.44\",\"18.83\",\"19.22\",\"19.61\",\"20.0\"],\"changes\":WebIO.getval({\"name\":\"changes\",\"scope\":\"8530363249624264703\",\"id\":\"8849164320453159752\",\"type\":\"observable\"}),\"index\":WebIO.getval({\"name\":\"index\",\"scope\":\"8530363249624264703\",\"id\":\"4249174848745641874\",\"type\":\"observable\"})};\n    var self = this;\n    function AppViewModel() {\n        for (var key in json_data) {\n            var el = json_data[key];\n            this[key] = Array.isArray(el) ? ko.observableArray(el) : ko.observable(el);\n        }\n        \n        [this[\"formatted_val\"]=ko.computed(    function(){\n        return this.formatted_vals()[parseInt(this.index())-(1)];\n    }\n,this)]\n        [this[\"changes\"].subscribe((function (val){!(this.valueFromJulia[\"changes\"]) ? (WebIO.setval({\"name\":\"changes\",\"scope\":\"8530363249624264703\",\"id\":\"8849164320453159752\",\"type\":\"observable\"},val)) : undefined; return this.valueFromJulia[\"changes\"]=false}),self),this[\"index\"].subscribe((function (val){!(this.valueFromJulia[\"index\"]) ? (WebIO.setval({\"name\":\"index\",\"scope\":\"8530363249624264703\",\"id\":\"4249174848745641874\",\"type\":\"observable\"},val)) : undefined; return this.valueFromJulia[\"index\"]=false}),self)]\n        \n    }\n    self.model = new AppViewModel();\n    self.valueFromJulia = {};\n    for (var key in json_data) {\n        self.valueFromJulia[key] = false;\n    }\n    ko.applyBindings(self.model, self.dom);\n}\n);\n    (WebIO.importBlock({\"data\":[{\"name\":\"knockout\",\"type\":\"js\",\"url\":\"/assetserver/7ce5fb94901cd9817b0d2f5c55656bbbc8077c10-knockout.js\"},{\"name\":\"knockout_punches\",\"type\":\"js\",\"url\":\"/assetserver/bd9fbe3cc592c27356f31921aa080f1c09d2cb5d-knockout_punches.js\"}],\"type\":\"async_block\"})).then((imports) => handler.apply(this, imports));\n}\n"
            ],
            "observables": {
             "changes": {
              "id": "8849164320453159752",
              "sync": false,
              "value": 0
             },
             "index": {
              "id": "4249174848745641874",
              "sync": true,
              "value": 26
             }
            },
            "systemjs_options": null
           },
           "nodeType": "Scope",
           "props": {},
           "type": "node"
          }
         ],
         "instanceArgs": {
          "namespace": "html",
          "tag": "div"
         },
         "nodeType": "DOM",
         "props": {
          "className": "field interact-widget"
         },
         "type": "node"
        },
        {
         "children": [
          {
           "children": [
            {
             "children": [
              {
               "children": [
                {
                 "children": [
                  "theta"
                 ],
                 "instanceArgs": {
                  "namespace": "html",
                  "tag": "label"
                 },
                 "nodeType": "DOM",
                 "props": {
                  "className": "interact ",
                  "style": {
                   "padding": "5px 10px 0px 10px"
                  }
                 },
                 "type": "node"
                }
               ],
               "instanceArgs": {
                "namespace": "html",
                "tag": "div"
               },
               "nodeType": "DOM",
               "props": {
                "className": "interact-flex-row-left"
               },
               "type": "node"
              },
              {
               "children": [
                {
                 "children": [],
                 "instanceArgs": {
                  "namespace": "html",
                  "tag": "input"
                 },
                 "nodeType": "DOM",
                 "props": {
                  "attributes": {
                   "data-bind": "numericValue: index, valueUpdate: 'input', event: {change: function (){this.changes(this.changes()+1)}}",
                   "orient": "horizontal",
                   "type": "range"
                  },
                  "className": "slider slider is-fullwidth",
                  "max": 51,
                  "min": 1,
                  "step": 1,
                  "style": {}
                 },
                 "type": "node"
                }
               ],
               "instanceArgs": {
                "namespace": "html",
                "tag": "div"
               },
               "nodeType": "DOM",
               "props": {
                "className": "interact-flex-row-center"
               },
               "type": "node"
              },
              {
               "children": [
                {
                 "children": [],
                 "instanceArgs": {
                  "namespace": "html",
                  "tag": "p"
                 },
                 "nodeType": "DOM",
                 "props": {
                  "attributes": {
                   "data-bind": "text: formatted_val"
                  }
                 },
                 "type": "node"
                }
               ],
               "instanceArgs": {
                "namespace": "html",
                "tag": "div"
               },
               "nodeType": "DOM",
               "props": {
                "className": "interact-flex-row-right"
               },
               "type": "node"
              }
             ],
             "instanceArgs": {
              "namespace": "html",
              "tag": "div"
             },
             "nodeType": "DOM",
             "props": {
              "className": "interact-flex-row interact-widget"
             },
             "type": "node"
            }
           ],
           "instanceArgs": {
            "handlers": {
             "changes": [
              "(function (val){return (val!=this.model[\"changes\"]()) ? (this.valueFromJulia[\"changes\"]=true, this.model[\"changes\"](val)) : undefined})"
             ],
             "index": [
              "(function (val){return (val!=this.model[\"index\"]()) ? (this.valueFromJulia[\"index\"]=true, this.model[\"index\"](val)) : undefined})"
             ]
            },
            "id": "5959029807927191311",
            "imports": {
             "data": [
              {
               "name": "knockout",
               "type": "js",
               "url": "/assetserver/7ce5fb94901cd9817b0d2f5c55656bbbc8077c10-knockout.js"
              },
              {
               "name": "knockout_punches",
               "type": "js",
               "url": "/assetserver/bd9fbe3cc592c27356f31921aa080f1c09d2cb5d-knockout_punches.js"
              },
              {
               "name": null,
               "type": "js",
               "url": "/assetserver/53a4a020ad3c5d89d02f3f5e8374f2fa3d38bcf9-all.js"
              },
              {
               "name": null,
               "type": "css",
               "url": "/assetserver/543c2aa71619908ee80841774e58af2a8a854d60-style.css"
              },
              {
               "name": null,
               "type": "css",
               "url": "/assetserver/62b0c7544019fc934d3511d29e7b58032a866f63-bulma_confined.min.css"
              }
             ],
             "type": "async_block"
            },
            "mount_callbacks": [
             "function () {\n    var handler = (function (ko, koPunches) {\n    ko.punches.enableAll();\n    ko.bindingHandlers.numericValue = {\n        init: function(element, valueAccessor, allBindings, data, context) {\n            var stringified = ko.observable(ko.unwrap(valueAccessor()));\n            stringified.subscribe(function(value) {\n                var val = parseFloat(value);\n                if (!isNaN(val)) {\n                    valueAccessor()(val);\n                }\n            });\n            valueAccessor().subscribe(function(value) {\n                var str = JSON.stringify(value);\n                if ((str == \"0\") && ([\"-0\", \"-0.\"].indexOf(stringified()) >= 0))\n                     return;\n                 if ([\"null\", \"\"].indexOf(str) >= 0)\n                     return;\n                stringified(str);\n            });\n            ko.applyBindingsToNode(\n                element,\n                {\n                    value: stringified,\n                    valueUpdate: allBindings.get('valueUpdate'),\n                },\n                context,\n            );\n        }\n    };\n    var json_data = {\"formatted_vals\":[\"0.1\",\"0.298\",\"0.496\",\"0.694\",\"0.892\",\"1.09\",\"1.288\",\"1.486\",\"1.684\",\"1.882\",\"2.08\",\"2.278\",\"2.476\",\"2.674\",\"2.872\",\"3.07\",\"3.268\",\"3.466\",\"3.664\",\"3.862\",\"4.06\",\"4.258\",\"4.456\",\"4.654\",\"4.852\",\"5.05\",\"5.248\",\"5.446\",\"5.644\",\"5.842\",\"6.04\",\"6.238\",\"6.436\",\"6.634\",\"6.832\",\"7.03\",\"7.228\",\"7.426\",\"7.624\",\"7.822\",\"8.02\",\"8.218\",\"8.416\",\"8.614\",\"8.812\",\"9.01\",\"9.208\",\"9.406\",\"9.604\",\"9.802\",\"10.0\"],\"changes\":WebIO.getval({\"name\":\"changes\",\"scope\":\"5959029807927191311\",\"id\":\"3843765453045916981\",\"type\":\"observable\"}),\"index\":WebIO.getval({\"name\":\"index\",\"scope\":\"5959029807927191311\",\"id\":\"15602173742054399799\",\"type\":\"observable\"})};\n    var self = this;\n    function AppViewModel() {\n        for (var key in json_data) {\n            var el = json_data[key];\n            this[key] = Array.isArray(el) ? ko.observableArray(el) : ko.observable(el);\n        }\n        \n        [this[\"formatted_val\"]=ko.computed(    function(){\n        return this.formatted_vals()[parseInt(this.index())-(1)];\n    }\n,this)]\n        [this[\"changes\"].subscribe((function (val){!(this.valueFromJulia[\"changes\"]) ? (WebIO.setval({\"name\":\"changes\",\"scope\":\"5959029807927191311\",\"id\":\"3843765453045916981\",\"type\":\"observable\"},val)) : undefined; return this.valueFromJulia[\"changes\"]=false}),self),this[\"index\"].subscribe((function (val){!(this.valueFromJulia[\"index\"]) ? (WebIO.setval({\"name\":\"index\",\"scope\":\"5959029807927191311\",\"id\":\"15602173742054399799\",\"type\":\"observable\"},val)) : undefined; return this.valueFromJulia[\"index\"]=false}),self)]\n        \n    }\n    self.model = new AppViewModel();\n    self.valueFromJulia = {};\n    for (var key in json_data) {\n        self.valueFromJulia[key] = false;\n    }\n    ko.applyBindings(self.model, self.dom);\n}\n);\n    (WebIO.importBlock({\"data\":[{\"name\":\"knockout\",\"type\":\"js\",\"url\":\"/assetserver/7ce5fb94901cd9817b0d2f5c55656bbbc8077c10-knockout.js\"},{\"name\":\"knockout_punches\",\"type\":\"js\",\"url\":\"/assetserver/bd9fbe3cc592c27356f31921aa080f1c09d2cb5d-knockout_punches.js\"}],\"type\":\"async_block\"})).then((imports) => handler.apply(this, imports));\n}\n"
            ],
            "observables": {
             "changes": {
              "id": "3843765453045916981",
              "sync": false,
              "value": 0
             },
             "index": {
              "id": "15602173742054399799",
              "sync": true,
              "value": 26
             }
            },
            "systemjs_options": null
           },
           "nodeType": "Scope",
           "props": {},
           "type": "node"
          }
         ],
         "instanceArgs": {
          "namespace": "html",
          "tag": "div"
         },
         "nodeType": "DOM",
         "props": {
          "className": "field interact-widget"
         },
         "type": "node"
        },
        {
         "children": [
          {
           "children": [],
           "instanceArgs": {
            "id": "10078823939700254541",
            "name": "obs-node"
           },
           "nodeType": "ObservableNode",
           "props": {},
           "type": "node"
          }
         ],
         "instanceArgs": {
          "handlers": {},
          "id": "7338017528782112612",
          "imports": {
           "data": [],
           "type": "async_block"
          },
          "mount_callbacks": [],
          "observables": {
           "obs-node": {
            "id": "10078823939700254541",
            "sync": false,
            "value": {
             "children": [
              {
               "children": [],
               "instanceArgs": {
                "namespace": "html",
                "tag": "div"
               },
               "nodeType": "DOM",
               "props": {
                "setInnerHtml": "<?xml version=\"1.0\" encoding=\"utf-8\"?>\n<svg xmlns=\"http://www.w3.org/2000/svg\" xmlns:xlink=\"http://www.w3.org/1999/xlink\" width=\"600\" height=\"400\" viewBox=\"0 0 2400 1600\">\n<defs>\n  <clipPath id=\"clip680\">\n    <rect x=\"0\" y=\"0\" width=\"2400\" height=\"1600\"/>\n  </clipPath>\n</defs>\n<path clip-path=\"url(#clip680)\" d=\"\nM0 1600 L2400 1600 L2400 0 L0 0  Z\n  \" fill=\"#ffffff\" fill-rule=\"evenodd\" fill-opacity=\"1\"/>\n<defs>\n  <clipPath id=\"clip681\">\n    <rect x=\"480\" y=\"0\" width=\"1681\" height=\"1600\"/>\n  </clipPath>\n</defs>\n<path clip-path=\"url(#clip680)\" d=\"\nM174.862 1486.45 L2352.76 1486.45 L2352.76 47.2441 L174.862 47.2441  Z\n  \" fill=\"#ffffff\" fill-rule=\"evenodd\" fill-opacity=\"1\"/>\n<defs>\n  <clipPath id=\"clip682\">\n    <rect x=\"174\" y=\"47\" width=\"2179\" height=\"1440\"/>\n  </clipPath>\n</defs>\n<polyline clip-path=\"url(#clip682)\" style=\"stroke:#000000; stroke-width:2; stroke-opacity:0.1; fill:none\" points=\"\n  236.501,1486.45 236.501,47.2441 \n  \"/>\n<polyline clip-path=\"url(#clip682)\" style=\"stroke:#000000; stroke-width:2; stroke-opacity:0.1; fill:none\" points=\"\n  647.424,1486.45 647.424,47.2441 \n  \"/>\n<polyline clip-path=\"url(#clip682)\" style=\"stroke:#000000; stroke-width:2; stroke-opacity:0.1; fill:none\" points=\"\n  1058.35,1486.45 1058.35,47.2441 \n  \"/>\n<polyline clip-path=\"url(#clip682)\" style=\"stroke:#000000; stroke-width:2; stroke-opacity:0.1; fill:none\" points=\"\n  1469.27,1486.45 1469.27,47.2441 \n  \"/>\n<polyline clip-path=\"url(#clip682)\" style=\"stroke:#000000; stroke-width:2; stroke-opacity:0.1; fill:none\" points=\"\n  1880.19,1486.45 1880.19,47.2441 \n  \"/>\n<polyline clip-path=\"url(#clip682)\" style=\"stroke:#000000; stroke-width:2; stroke-opacity:0.1; fill:none\" points=\"\n  2291.12,1486.45 2291.12,47.2441 \n  \"/>\n<polyline clip-path=\"url(#clip680)\" style=\"stroke:#000000; stroke-width:4; stroke-opacity:1; fill:none\" points=\"\n  174.862,1486.45 2352.76,1486.45 \n  \"/>\n<polyline clip-path=\"url(#clip680)\" style=\"stroke:#000000; stroke-width:4; stroke-opacity:1; fill:none\" points=\"\n  236.501,1486.45 236.501,1469.18 \n  \"/>\n<polyline clip-path=\"url(#clip680)\" style=\"stroke:#000000; stroke-width:4; stroke-opacity:1; fill:none\" points=\"\n  647.424,1486.45 647.424,1469.18 \n  \"/>\n<polyline clip-path=\"url(#clip680)\" style=\"stroke:#000000; stroke-width:4; stroke-opacity:1; fill:none\" points=\"\n  1058.35,1486.45 1058.35,1469.18 \n  \"/>\n<polyline clip-path=\"url(#clip680)\" style=\"stroke:#000000; stroke-width:4; stroke-opacity:1; fill:none\" points=\"\n  1469.27,1486.45 1469.27,1469.18 \n  \"/>\n<polyline clip-path=\"url(#clip680)\" style=\"stroke:#000000; stroke-width:4; stroke-opacity:1; fill:none\" points=\"\n  1880.19,1486.45 1880.19,1469.18 \n  \"/>\n<polyline clip-path=\"url(#clip680)\" style=\"stroke:#000000; stroke-width:4; stroke-opacity:1; fill:none\" points=\"\n  2291.12,1486.45 2291.12,1469.18 \n  \"/>\n<path clip-path=\"url(#clip680)\" d=\"M 0 0 M236.501 1515.64 Q232.889 1515.64 231.061 1519.2 Q229.255 1522.75 229.255 1529.87 Q229.255 1536.98 231.061 1540.55 Q232.889 1544.09 236.501 1544.09 Q240.135 1544.09 241.94 1540.55 Q243.769 1536.98 243.769 1529.87 Q243.769 1522.75 241.94 1519.2 Q240.135 1515.64 236.501 1515.64 M236.501 1511.93 Q242.311 1511.93 245.366 1516.54 Q248.445 1521.12 248.445 1529.87 Q248.445 1538.6 245.366 1543.21 Q242.311 1547.79 236.501 1547.79 Q230.69 1547.79 227.612 1543.21 Q224.556 1538.6 224.556 1529.87 Q224.556 1521.12 227.612 1516.54 Q230.69 1511.93 236.501 1511.93 Z\" fill=\"#000000\" fill-rule=\"evenodd\" fill-opacity=\"1\" /><path clip-path=\"url(#clip680)\" d=\"M 0 0 M637.702 1512.56 L656.058 1512.56 L656.058 1516.5 L641.984 1516.5 L641.984 1524.97 Q643.003 1524.62 644.021 1524.46 Q645.04 1524.27 646.058 1524.27 Q651.845 1524.27 655.225 1527.44 Q658.604 1530.62 658.604 1536.03 Q658.604 1541.61 655.132 1544.71 Q651.66 1547.79 645.341 1547.79 Q643.165 1547.79 640.896 1547.42 Q638.651 1547.05 636.243 1546.31 L636.243 1541.61 Q638.327 1542.74 640.549 1543.3 Q642.771 1543.86 645.248 1543.86 Q649.253 1543.86 651.591 1541.75 Q653.928 1539.64 653.928 1536.03 Q653.928 1532.42 651.591 1530.31 Q649.253 1528.21 645.248 1528.21 Q643.373 1528.21 641.498 1528.62 Q639.646 1529.04 637.702 1529.92 L637.702 1512.56 Z\" fill=\"#000000\" fill-rule=\"evenodd\" fill-opacity=\"1\" /><path clip-path=\"url(#clip680)\" d=\"M 0 0 M1035.22 1543.18 L1042.86 1543.18 L1042.86 1516.82 L1034.55 1518.49 L1034.55 1514.23 L1042.81 1512.56 L1047.49 1512.56 L1047.49 1543.18 L1055.13 1543.18 L1055.13 1547.12 L1035.22 1547.12 L1035.22 1543.18 Z\" fill=\"#000000\" fill-rule=\"evenodd\" fill-opacity=\"1\" /><path clip-path=\"url(#clip680)\" d=\"M 0 0 M1070.2 1515.64 Q1066.59 1515.64 1064.76 1519.2 Q1062.95 1522.75 1062.95 1529.87 Q1062.95 1536.98 1064.76 1540.55 Q1066.59 1544.09 1070.2 1544.09 Q1073.83 1544.09 1075.64 1540.55 Q1077.47 1536.98 1077.47 1529.87 Q1077.47 1522.75 1075.64 1519.2 Q1073.83 1515.64 1070.2 1515.64 M1070.2 1511.93 Q1076.01 1511.93 1079.06 1516.54 Q1082.14 1521.12 1082.14 1529.87 Q1082.14 1538.6 1079.06 1543.21 Q1076.01 1547.79 1070.2 1547.79 Q1064.39 1547.79 1061.31 1543.21 Q1058.25 1538.6 1058.25 1529.87 Q1058.25 1521.12 1061.31 1516.54 Q1064.39 1511.93 1070.2 1511.93 Z\" fill=\"#000000\" fill-rule=\"evenodd\" fill-opacity=\"1\" /><path clip-path=\"url(#clip680)\" d=\"M 0 0 M1446.64 1543.18 L1454.28 1543.18 L1454.28 1516.82 L1445.97 1518.49 L1445.97 1514.23 L1454.24 1512.56 L1458.91 1512.56 L1458.91 1543.18 L1466.55 1543.18 L1466.55 1547.12 L1446.64 1547.12 L1446.64 1543.18 Z\" fill=\"#000000\" fill-rule=\"evenodd\" fill-opacity=\"1\" /><path clip-path=\"url(#clip680)\" d=\"M 0 0 M1471.67 1512.56 L1490.02 1512.56 L1490.02 1516.5 L1475.95 1516.5 L1475.95 1524.97 Q1476.97 1524.62 1477.99 1524.46 Q1479 1524.27 1480.02 1524.27 Q1485.81 1524.27 1489.19 1527.44 Q1492.57 1530.62 1492.57 1536.03 Q1492.57 1541.61 1489.1 1544.71 Q1485.62 1547.79 1479.31 1547.79 Q1477.13 1547.79 1474.86 1547.42 Q1472.62 1547.05 1470.21 1546.31 L1470.21 1541.61 Q1472.29 1542.74 1474.51 1543.3 Q1476.74 1543.86 1479.21 1543.86 Q1483.22 1543.86 1485.56 1541.75 Q1487.89 1539.64 1487.89 1536.03 Q1487.89 1532.42 1485.56 1530.31 Q1483.22 1528.21 1479.21 1528.21 Q1477.34 1528.21 1475.46 1528.62 Q1473.61 1529.04 1471.67 1529.92 L1471.67 1512.56 Z\" fill=\"#000000\" fill-rule=\"evenodd\" fill-opacity=\"1\" /><path clip-path=\"url(#clip680)\" d=\"M 0 0 M1861.34 1543.18 L1877.66 1543.18 L1877.66 1547.12 L1855.71 1547.12 L1855.71 1543.18 Q1858.38 1540.43 1862.96 1535.8 Q1867.57 1531.15 1868.75 1529.81 Q1870.99 1527.28 1871.87 1525.55 Q1872.78 1523.79 1872.78 1522.1 Q1872.78 1519.34 1870.83 1517.61 Q1868.91 1515.87 1865.81 1515.87 Q1863.61 1515.87 1861.15 1516.63 Q1858.72 1517.4 1855.95 1518.95 L1855.95 1514.23 Q1858.77 1513.09 1861.22 1512.51 Q1863.68 1511.93 1865.71 1511.93 Q1871.09 1511.93 1874.28 1514.62 Q1877.47 1517.31 1877.47 1521.8 Q1877.47 1523.93 1876.66 1525.85 Q1875.88 1527.74 1873.77 1530.34 Q1873.19 1531.01 1870.09 1534.23 Q1866.99 1537.42 1861.34 1543.18 Z\" fill=\"#000000\" fill-rule=\"evenodd\" fill-opacity=\"1\" /><path clip-path=\"url(#clip680)\" d=\"M 0 0 M1892.73 1515.64 Q1889.12 1515.64 1887.29 1519.2 Q1885.48 1522.75 1885.48 1529.87 Q1885.48 1536.98 1887.29 1540.55 Q1889.12 1544.09 1892.73 1544.09 Q1896.36 1544.09 1898.17 1540.55 Q1900 1536.98 1900 1529.87 Q1900 1522.75 1898.17 1519.2 Q1896.36 1515.64 1892.73 1515.64 M1892.73 1511.93 Q1898.54 1511.93 1901.59 1516.54 Q1904.67 1521.12 1904.67 1529.87 Q1904.67 1538.6 1901.59 1543.21 Q1898.54 1547.79 1892.73 1547.79 Q1886.92 1547.79 1883.84 1543.21 Q1880.78 1538.6 1880.78 1529.87 Q1880.78 1521.12 1883.84 1516.54 Q1886.92 1511.93 1892.73 1511.93 Z\" fill=\"#000000\" fill-rule=\"evenodd\" fill-opacity=\"1\" /><path clip-path=\"url(#clip680)\" d=\"M 0 0 M2272.76 1543.18 L2289.08 1543.18 L2289.08 1547.12 L2267.14 1547.12 L2267.14 1543.18 Q2269.8 1540.43 2274.38 1535.8 Q2278.99 1531.15 2280.17 1529.81 Q2282.41 1527.28 2283.29 1525.55 Q2284.2 1523.79 2284.2 1522.1 Q2284.2 1519.34 2282.25 1517.61 Q2280.33 1515.87 2277.23 1515.87 Q2275.03 1515.87 2272.58 1516.63 Q2270.15 1517.4 2267.37 1518.95 L2267.37 1514.23 Q2270.19 1513.09 2272.65 1512.51 Q2275.1 1511.93 2277.14 1511.93 Q2282.51 1511.93 2285.7 1514.62 Q2288.9 1517.31 2288.9 1521.8 Q2288.9 1523.93 2288.09 1525.85 Q2287.3 1527.74 2285.19 1530.34 Q2284.61 1531.01 2281.51 1534.23 Q2278.41 1537.42 2272.76 1543.18 Z\" fill=\"#000000\" fill-rule=\"evenodd\" fill-opacity=\"1\" /><path clip-path=\"url(#clip680)\" d=\"M 0 0 M2294.2 1512.56 L2312.55 1512.56 L2312.55 1516.5 L2298.48 1516.5 L2298.48 1524.97 Q2299.5 1524.62 2300.52 1524.46 Q2301.53 1524.27 2302.55 1524.27 Q2308.34 1524.27 2311.72 1527.44 Q2315.1 1530.62 2315.1 1536.03 Q2315.1 1541.61 2311.63 1544.71 Q2308.15 1547.79 2301.83 1547.79 Q2299.66 1547.79 2297.39 1547.42 Q2295.15 1547.05 2292.74 1546.31 L2292.74 1541.61 Q2294.82 1542.74 2297.04 1543.3 Q2299.27 1543.86 2301.74 1543.86 Q2305.75 1543.86 2308.08 1541.75 Q2310.42 1539.64 2310.42 1536.03 Q2310.42 1532.42 2308.08 1530.31 Q2305.75 1528.21 2301.74 1528.21 Q2299.87 1528.21 2297.99 1528.62 Q2296.14 1529.04 2294.2 1529.92 L2294.2 1512.56 Z\" fill=\"#000000\" fill-rule=\"evenodd\" fill-opacity=\"1\" /><polyline clip-path=\"url(#clip682)\" style=\"stroke:#000000; stroke-width:2; stroke-opacity:0.1; fill:none\" points=\"\n  174.862,1486.45 2352.76,1486.45 \n  \"/>\n<polyline clip-path=\"url(#clip682)\" style=\"stroke:#000000; stroke-width:2; stroke-opacity:0.1; fill:none\" points=\"\n  174.862,1126.65 2352.76,1126.65 \n  \"/>\n<polyline clip-path=\"url(#clip682)\" style=\"stroke:#000000; stroke-width:2; stroke-opacity:0.1; fill:none\" points=\"\n  174.862,766.846 2352.76,766.846 \n  \"/>\n<polyline clip-path=\"url(#clip682)\" style=\"stroke:#000000; stroke-width:2; stroke-opacity:0.1; fill:none\" points=\"\n  174.862,407.045 2352.76,407.045 \n  \"/>\n<polyline clip-path=\"url(#clip682)\" style=\"stroke:#000000; stroke-width:2; stroke-opacity:0.1; fill:none\" points=\"\n  174.862,47.2441 2352.76,47.2441 \n  \"/>\n<polyline clip-path=\"url(#clip680)\" style=\"stroke:#000000; stroke-width:4; stroke-opacity:1; fill:none\" points=\"\n  174.862,1486.45 174.862,47.2441 \n  \"/>\n<polyline clip-path=\"url(#clip680)\" style=\"stroke:#000000; stroke-width:4; stroke-opacity:1; fill:none\" points=\"\n  174.862,1486.45 200.997,1486.45 \n  \"/>\n<polyline clip-path=\"url(#clip680)\" style=\"stroke:#000000; stroke-width:4; stroke-opacity:1; fill:none\" points=\"\n  174.862,1126.65 200.997,1126.65 \n  \"/>\n<polyline clip-path=\"url(#clip680)\" style=\"stroke:#000000; stroke-width:4; stroke-opacity:1; fill:none\" points=\"\n  174.862,766.846 200.997,766.846 \n  \"/>\n<polyline clip-path=\"url(#clip680)\" style=\"stroke:#000000; stroke-width:4; stroke-opacity:1; fill:none\" points=\"\n  174.862,407.045 200.997,407.045 \n  \"/>\n<polyline clip-path=\"url(#clip680)\" style=\"stroke:#000000; stroke-width:4; stroke-opacity:1; fill:none\" points=\"\n  174.862,47.2441 200.997,47.2441 \n  \"/>\n<path clip-path=\"url(#clip680)\" d=\"M 0 0 M62.9365 1472.25 Q59.3254 1472.25 57.4967 1475.81 Q55.6912 1479.35 55.6912 1486.48 Q55.6912 1493.59 57.4967 1497.15 Q59.3254 1500.7 62.9365 1500.7 Q66.5707 1500.7 68.3763 1497.15 Q70.205 1493.59 70.205 1486.48 Q70.205 1479.35 68.3763 1475.81 Q66.5707 1472.25 62.9365 1472.25 M62.9365 1468.54 Q68.7467 1468.54 71.8022 1473.15 Q74.8809 1477.73 74.8809 1486.48 Q74.8809 1495.21 71.8022 1499.82 Q68.7467 1504.4 62.9365 1504.4 Q57.1264 1504.4 54.0477 1499.82 Q50.9921 1495.21 50.9921 1486.48 Q50.9921 1477.73 54.0477 1473.15 Q57.1264 1468.54 62.9365 1468.54 Z\" fill=\"#000000\" fill-rule=\"evenodd\" fill-opacity=\"1\" /><path clip-path=\"url(#clip680)\" d=\"M 0 0 M79.9503 1497.85 L84.8345 1497.85 L84.8345 1503.73 L79.9503 1503.73 L79.9503 1497.85 Z\" fill=\"#000000\" fill-rule=\"evenodd\" fill-opacity=\"1\" /><path clip-path=\"url(#clip680)\" d=\"M 0 0 M99.9039 1472.25 Q96.2928 1472.25 94.4641 1475.81 Q92.6586 1479.35 92.6586 1486.48 Q92.6586 1493.59 94.4641 1497.15 Q96.2928 1500.7 99.9039 1500.7 Q103.538 1500.7 105.344 1497.15 Q107.172 1493.59 107.172 1486.48 Q107.172 1479.35 105.344 1475.81 Q103.538 1472.25 99.9039 1472.25 M99.9039 1468.54 Q105.714 1468.54 108.77 1473.15 Q111.848 1477.73 111.848 1486.48 Q111.848 1495.21 108.77 1499.82 Q105.714 1504.4 99.9039 1504.4 Q94.0937 1504.4 91.0151 1499.82 Q87.9595 1495.21 87.9595 1486.48 Q87.9595 1477.73 91.0151 1473.15 Q94.0937 1468.54 99.9039 1468.54 Z\" fill=\"#000000\" fill-rule=\"evenodd\" fill-opacity=\"1\" /><path clip-path=\"url(#clip680)\" d=\"M 0 0 M126.918 1472.25 Q123.307 1472.25 121.478 1475.81 Q119.672 1479.35 119.672 1486.48 Q119.672 1493.59 121.478 1497.15 Q123.307 1500.7 126.918 1500.7 Q130.552 1500.7 132.357 1497.15 Q134.186 1493.59 134.186 1486.48 Q134.186 1479.35 132.357 1475.81 Q130.552 1472.25 126.918 1472.25 M126.918 1468.54 Q132.728 1468.54 135.783 1473.15 Q138.862 1477.73 138.862 1486.48 Q138.862 1495.21 135.783 1499.82 Q132.728 1504.4 126.918 1504.4 Q121.107 1504.4 118.029 1499.82 Q114.973 1495.21 114.973 1486.48 Q114.973 1477.73 118.029 1473.15 Q121.107 1468.54 126.918 1468.54 Z\" fill=\"#000000\" fill-rule=\"evenodd\" fill-opacity=\"1\" /><path clip-path=\"url(#clip680)\" d=\"M 0 0 M63.9319 1112.45 Q60.3208 1112.45 58.4921 1116.01 Q56.6865 1119.55 56.6865 1126.68 Q56.6865 1133.79 58.4921 1137.35 Q60.3208 1140.89 63.9319 1140.89 Q67.5661 1140.89 69.3717 1137.35 Q71.2004 1133.79 71.2004 1126.68 Q71.2004 1119.55 69.3717 1116.01 Q67.5661 1112.45 63.9319 1112.45 M63.9319 1108.74 Q69.742 1108.74 72.7976 1113.35 Q75.8763 1117.93 75.8763 1126.68 Q75.8763 1135.41 72.7976 1140.01 Q69.742 1144.6 63.9319 1144.6 Q58.1217 1144.6 55.043 1140.01 Q51.9875 1135.41 51.9875 1126.68 Q51.9875 1117.93 55.043 1113.35 Q58.1217 1108.74 63.9319 1108.74 Z\" fill=\"#000000\" fill-rule=\"evenodd\" fill-opacity=\"1\" /><path clip-path=\"url(#clip680)\" d=\"M 0 0 M80.9457 1138.05 L85.8299 1138.05 L85.8299 1143.93 L80.9457 1143.93 L80.9457 1138.05 Z\" fill=\"#000000\" fill-rule=\"evenodd\" fill-opacity=\"1\" /><path clip-path=\"url(#clip680)\" d=\"M 0 0 M100.899 1112.45 Q97.2882 1112.45 95.4595 1116.01 Q93.6539 1119.55 93.6539 1126.68 Q93.6539 1133.79 95.4595 1137.35 Q97.2882 1140.89 100.899 1140.89 Q104.534 1140.89 106.339 1137.35 Q108.168 1133.79 108.168 1126.68 Q108.168 1119.55 106.339 1116.01 Q104.534 1112.45 100.899 1112.45 M100.899 1108.74 Q106.709 1108.74 109.765 1113.35 Q112.844 1117.93 112.844 1126.68 Q112.844 1135.41 109.765 1140.01 Q106.709 1144.6 100.899 1144.6 Q95.0891 1144.6 92.0104 1140.01 Q88.9549 1135.41 88.9549 1126.68 Q88.9549 1117.93 92.0104 1113.35 Q95.0891 1108.74 100.899 1108.74 Z\" fill=\"#000000\" fill-rule=\"evenodd\" fill-opacity=\"1\" /><path clip-path=\"url(#clip680)\" d=\"M 0 0 M117.959 1109.37 L136.316 1109.37 L136.316 1113.3 L122.242 1113.3 L122.242 1121.77 Q123.26 1121.43 124.279 1121.27 Q125.297 1121.08 126.316 1121.08 Q132.103 1121.08 135.482 1124.25 Q138.862 1127.42 138.862 1132.84 Q138.862 1138.42 135.39 1141.52 Q131.918 1144.6 125.598 1144.6 Q123.422 1144.6 121.154 1144.23 Q118.908 1143.86 116.501 1143.12 L116.501 1138.42 Q118.584 1139.55 120.807 1140.11 Q123.029 1140.66 125.506 1140.66 Q129.51 1140.66 131.848 1138.56 Q134.186 1136.45 134.186 1132.84 Q134.186 1129.23 131.848 1127.12 Q129.51 1125.01 125.506 1125.01 Q123.631 1125.01 121.756 1125.43 Q119.904 1125.85 117.959 1126.73 L117.959 1109.37 Z\" fill=\"#000000\" fill-rule=\"evenodd\" fill-opacity=\"1\" /><path clip-path=\"url(#clip680)\" d=\"M 0 0 M64.1634 752.645 Q60.5523 752.645 58.7236 756.209 Q56.918 759.751 56.918 766.881 Q56.918 773.987 58.7236 777.552 Q60.5523 781.094 64.1634 781.094 Q67.7976 781.094 69.6031 777.552 Q71.4318 773.987 71.4318 766.881 Q71.4318 759.751 69.6031 756.209 Q67.7976 752.645 64.1634 752.645 M64.1634 748.941 Q69.9735 748.941 73.029 753.547 Q76.1077 758.131 76.1077 766.881 Q76.1077 775.608 73.029 780.214 Q69.9735 784.797 64.1634 784.797 Q58.3532 784.797 55.2745 780.214 Q52.219 775.608 52.219 766.881 Q52.219 758.131 55.2745 753.547 Q58.3532 748.941 64.1634 748.941 Z\" fill=\"#000000\" fill-rule=\"evenodd\" fill-opacity=\"1\" /><path clip-path=\"url(#clip680)\" d=\"M 0 0 M81.1771 778.246 L86.0614 778.246 L86.0614 784.126 L81.1771 784.126 L81.1771 778.246 Z\" fill=\"#000000\" fill-rule=\"evenodd\" fill-opacity=\"1\" /><path clip-path=\"url(#clip680)\" d=\"M 0 0 M91.941 780.191 L99.5798 780.191 L99.5798 753.825 L91.2697 755.492 L91.2697 751.233 L99.5335 749.566 L104.209 749.566 L104.209 780.191 L111.848 780.191 L111.848 784.126 L91.941 784.126 L91.941 780.191 Z\" fill=\"#000000\" fill-rule=\"evenodd\" fill-opacity=\"1\" /><path clip-path=\"url(#clip680)\" d=\"M 0 0 M126.918 752.645 Q123.307 752.645 121.478 756.209 Q119.672 759.751 119.672 766.881 Q119.672 773.987 121.478 777.552 Q123.307 781.094 126.918 781.094 Q130.552 781.094 132.357 777.552 Q134.186 773.987 134.186 766.881 Q134.186 759.751 132.357 756.209 Q130.552 752.645 126.918 752.645 M126.918 748.941 Q132.728 748.941 135.783 753.547 Q138.862 758.131 138.862 766.881 Q138.862 775.608 135.783 780.214 Q132.728 784.797 126.918 784.797 Q121.107 784.797 118.029 780.214 Q114.973 775.608 114.973 766.881 Q114.973 758.131 118.029 753.547 Q121.107 748.941 126.918 748.941 Z\" fill=\"#000000\" fill-rule=\"evenodd\" fill-opacity=\"1\" /><path clip-path=\"url(#clip680)\" d=\"M 0 0 M65.1587 392.844 Q61.5476 392.844 59.7189 396.409 Q57.9134 399.95 57.9134 407.08 Q57.9134 414.186 59.7189 417.751 Q61.5476 421.293 65.1587 421.293 Q68.793 421.293 70.5985 417.751 Q72.4272 414.186 72.4272 407.08 Q72.4272 399.95 70.5985 396.409 Q68.793 392.844 65.1587 392.844 M65.1587 389.14 Q70.9689 389.14 74.0244 393.746 Q77.1031 398.33 77.1031 407.08 Q77.1031 415.807 74.0244 420.413 Q70.9689 424.996 65.1587 424.996 Q59.3486 424.996 56.2699 420.413 Q53.2143 415.807 53.2143 407.08 Q53.2143 398.33 56.2699 393.746 Q59.3486 389.14 65.1587 389.14 Z\" fill=\"#000000\" fill-rule=\"evenodd\" fill-opacity=\"1\" /><path clip-path=\"url(#clip680)\" d=\"M 0 0 M82.1725 418.445 L87.0567 418.445 L87.0567 424.325 L82.1725 424.325 L82.1725 418.445 Z\" fill=\"#000000\" fill-rule=\"evenodd\" fill-opacity=\"1\" /><path clip-path=\"url(#clip680)\" d=\"M 0 0 M92.9363 420.39 L100.575 420.39 L100.575 394.024 L92.2651 395.691 L92.2651 391.432 L100.529 389.765 L105.205 389.765 L105.205 420.39 L112.844 420.39 L112.844 424.325 L92.9363 424.325 L92.9363 420.39 Z\" fill=\"#000000\" fill-rule=\"evenodd\" fill-opacity=\"1\" /><path clip-path=\"url(#clip680)\" d=\"M 0 0 M117.959 389.765 L136.316 389.765 L136.316 393.7 L122.242 393.7 L122.242 402.172 Q123.26 401.825 124.279 401.663 Q125.297 401.478 126.316 401.478 Q132.103 401.478 135.482 404.649 Q138.862 407.82 138.862 413.237 Q138.862 418.816 135.39 421.918 Q131.918 424.996 125.598 424.996 Q123.422 424.996 121.154 424.626 Q118.908 424.256 116.501 423.515 L116.501 418.816 Q118.584 419.95 120.807 420.506 Q123.029 421.061 125.506 421.061 Q129.51 421.061 131.848 418.955 Q134.186 416.848 134.186 413.237 Q134.186 409.626 131.848 407.52 Q129.51 405.413 125.506 405.413 Q123.631 405.413 121.756 405.83 Q119.904 406.246 117.959 407.126 L117.959 389.765 Z\" fill=\"#000000\" fill-rule=\"evenodd\" fill-opacity=\"1\" /><path clip-path=\"url(#clip680)\" d=\"M 0 0 M64.5337 33.0428 Q60.9226 33.0428 59.0939 36.6076 Q57.2884 40.1492 57.2884 47.2788 Q57.2884 54.3853 59.0939 57.9501 Q60.9226 61.4917 64.5337 61.4917 Q68.168 61.4917 69.9735 57.9501 Q71.8022 54.3853 71.8022 47.2788 Q71.8022 40.1492 69.9735 36.6076 Q68.168 33.0428 64.5337 33.0428 M64.5337 29.3391 Q70.3439 29.3391 73.3994 33.9456 Q76.4781 38.5289 76.4781 47.2788 Q76.4781 56.0056 73.3994 60.6121 Q70.3439 65.1954 64.5337 65.1954 Q58.7236 65.1954 55.6449 60.6121 Q52.5893 56.0056 52.5893 47.2788 Q52.5893 38.5289 55.6449 33.9456 Q58.7236 29.3391 64.5337 29.3391 Z\" fill=\"#000000\" fill-rule=\"evenodd\" fill-opacity=\"1\" /><path clip-path=\"url(#clip680)\" d=\"M 0 0 M81.5475 58.6445 L86.4318 58.6445 L86.4318 64.5241 L81.5475 64.5241 L81.5475 58.6445 Z\" fill=\"#000000\" fill-rule=\"evenodd\" fill-opacity=\"1\" /><path clip-path=\"url(#clip680)\" d=\"M 0 0 M95.5289 60.5889 L111.848 60.5889 L111.848 64.5241 L89.904 64.5241 L89.904 60.5889 Q92.566 57.8343 97.1493 53.2047 Q101.756 48.552 102.936 47.2094 Q105.182 44.6862 106.061 42.9501 Q106.964 41.1909 106.964 39.5011 Q106.964 36.7465 105.02 35.0104 Q103.098 33.2743 99.9965 33.2743 Q97.7974 33.2743 95.3437 34.0381 Q92.9132 34.802 90.1354 36.3529 L90.1354 31.6308 Q92.9595 30.4965 95.4132 29.9178 Q97.8669 29.3391 99.9039 29.3391 Q105.274 29.3391 108.469 32.0243 Q111.663 34.7094 111.663 39.2002 Q111.663 41.3298 110.853 43.2511 Q110.066 45.1492 107.959 47.7418 Q107.381 48.4131 104.279 51.6306 Q101.177 54.8251 95.5289 60.5889 Z\" fill=\"#000000\" fill-rule=\"evenodd\" fill-opacity=\"1\" /><path clip-path=\"url(#clip680)\" d=\"M 0 0 M126.918 33.0428 Q123.307 33.0428 121.478 36.6076 Q119.672 40.1492 119.672 47.2788 Q119.672 54.3853 121.478 57.9501 Q123.307 61.4917 126.918 61.4917 Q130.552 61.4917 132.357 57.9501 Q134.186 54.3853 134.186 47.2788 Q134.186 40.1492 132.357 36.6076 Q130.552 33.0428 126.918 33.0428 M126.918 29.3391 Q132.728 29.3391 135.783 33.9456 Q138.862 38.5289 138.862 47.2788 Q138.862 56.0056 135.783 60.6121 Q132.728 65.1954 126.918 65.1954 Q121.107 65.1954 118.029 60.6121 Q114.973 56.0056 114.973 47.2788 Q114.973 38.5289 118.029 33.9456 Q121.107 29.3391 126.918 29.3391 Z\" fill=\"#000000\" fill-rule=\"evenodd\" fill-opacity=\"1\" /><polyline clip-path=\"url(#clip682)\" style=\"stroke:#009af9; stroke-width:4; stroke-opacity:1; fill:none\" points=\"\n  236.501,1486.45 246.774,1486.45 257.047,1486.45 267.32,1486.45 277.593,1486.45 287.866,1486.45 298.139,1486.45 308.412,1486.45 318.685,1486.45 328.958,1486.45 \n  339.231,1486.45 349.504,1486.45 359.778,1486.45 370.051,1486.45 380.324,1486.45 390.597,1486.45 400.87,1486.45 411.143,1486.45 421.416,1486.45 431.689,1486.45 \n  441.962,1486.45 452.235,1486.45 462.508,1486.45 472.781,1486.45 483.055,1486.45 493.328,1486.45 503.601,1486.45 513.874,1486.45 524.147,1486.45 534.42,1486.45 \n  544.693,1486.45 554.966,1486.45 565.239,1486.45 575.512,1486.45 585.785,1486.45 596.058,1486.45 606.332,1486.45 616.605,1486.45 626.878,1486.45 637.151,1486.45 \n  647.424,1486.45 657.697,1486.45 667.97,1486.45 678.243,1486.45 688.516,1486.45 698.789,1486.45 709.062,1486.45 719.335,1486.45 729.609,1486.44 739.882,1486.44 \n  750.155,1486.44 760.428,1486.44 770.701,1486.44 780.974,1486.44 791.247,1486.44 801.52,1486.44 811.793,1486.44 822.066,1486.43 832.339,1486.43 842.613,1486.43 \n  852.886,1486.43 863.159,1486.43 873.432,1486.42 883.705,1486.42 893.978,1486.42 904.251,1486.41 914.524,1486.41 924.797,1486.4 935.07,1486.4 945.343,1486.39 \n  955.616,1486.38 965.89,1486.38 976.163,1486.37 986.436,1486.36 996.709,1486.35 1006.98,1486.34 1017.25,1486.33 1027.53,1486.32 1037.8,1486.31 1048.07,1486.29 \n  1058.35,1486.28 1068.62,1486.26 1078.89,1486.24 1089.17,1486.22 1099.44,1486.2 1109.71,1486.18 1119.99,1486.16 1130.26,1486.14 1140.53,1486.11 1150.81,1486.08 \n  1161.08,1486.05 1171.35,1486.02 1181.62,1485.99 1191.9,1485.95 1202.17,1485.91 1212.44,1485.87 1222.72,1485.83 1232.99,1485.78 1243.26,1485.73 1253.54,1485.68 \n  1263.81,1485.63 1274.08,1485.57 1284.36,1485.51 1294.63,1485.45 1304.9,1485.38 1315.17,1485.31 1325.45,1485.24 1335.72,1485.16 1345.99,1485.08 1356.27,1484.99 \n  1366.54,1484.9 1376.81,1484.81 1387.09,1484.71 1397.36,1484.61 1407.63,1484.5 1417.91,1484.39 1428.18,1484.27 1438.45,1484.15 1448.72,1484.02 1459,1483.89 \n  1469.27,1483.75 1479.54,1483.6 1489.82,1483.45 1500.09,1483.3 1510.36,1483.13 1520.64,1482.97 1530.91,1482.79 1541.18,1482.61 1551.46,1482.42 1561.73,1482.23 \n  1572,1482.03 1582.27,1481.82 1592.55,1481.6 1602.82,1481.38 1613.09,1481.15 1623.37,1480.91 1633.64,1480.66 1643.91,1480.41 1654.19,1480.15 1664.46,1479.87 \n  1674.73,1479.6 1685.01,1479.31 1695.28,1479.01 1705.55,1478.71 1715.82,1478.39 1726.1,1478.07 1736.37,1477.74 1746.64,1477.4 1756.92,1477.05 1767.19,1476.69 \n  1777.46,1476.32 1787.74,1475.94 1798.01,1475.55 1808.28,1475.16 1818.56,1474.75 1828.83,1474.33 1839.1,1473.9 1849.37,1473.46 1859.65,1473.01 1869.92,1472.55 \n  1880.19,1472.08 1890.47,1471.6 1900.74,1471.11 1911.01,1470.61 1921.29,1470.1 1931.56,1469.58 1941.83,1469.04 1952.11,1468.5 1962.38,1467.94 1972.65,1467.38 \n  1982.92,1466.8 1993.2,1466.21 2003.47,1465.61 2013.74,1465 2024.02,1464.38 2034.29,1463.75 2044.56,1463.11 2054.84,1462.45 2065.11,1461.79 2075.38,1461.11 \n  2085.66,1460.42 2095.93,1459.72 2106.2,1459.01 2116.47,1458.29 2126.75,1457.56 2137.02,1456.82 2147.29,1456.06 2157.57,1455.3 2167.84,1454.53 2178.11,1453.74 \n  2188.39,1452.94 2198.66,1452.14 2208.93,1451.32 2219.21,1450.49 2229.48,1449.65 2239.75,1448.8 2250.03,1447.94 2260.3,1447.07 2270.57,1446.2 2280.84,1445.31 \n  2291.12,1444.41 \n  \"/>\n<path clip-path=\"url(#clip680)\" d=\"\nM1987.15 216.178 L2280.16 216.178 L2280.16 95.2176 L1987.15 95.2176  Z\n  \" fill=\"#ffffff\" fill-rule=\"evenodd\" fill-opacity=\"1\"/>\n<polyline clip-path=\"url(#clip680)\" style=\"stroke:#000000; stroke-width:4; stroke-opacity:1; fill:none\" points=\"\n  1987.15,216.178 2280.16,216.178 2280.16,95.2176 1987.15,95.2176 1987.15,216.178 \n  \"/>\n<polyline clip-path=\"url(#clip680)\" style=\"stroke:#009af9; stroke-width:4; stroke-opacity:1; fill:none\" points=\"\n  2011.35,155.698 2156.54,155.698 \n  \"/>\n<path clip-path=\"url(#clip680)\" d=\"M 0 0 M2194.59 175.385 Q2192.78 180.015 2191.07 181.427 Q2189.35 182.839 2186.48 182.839 L2183.08 182.839 L2183.08 179.274 L2185.58 179.274 Q2187.34 179.274 2188.31 178.44 Q2189.29 177.607 2190.47 174.505 L2191.23 172.561 L2180.74 147.052 L2185.26 147.052 L2193.36 167.329 L2201.46 147.052 L2205.97 147.052 L2194.59 175.385 Z\" fill=\"#000000\" fill-rule=\"evenodd\" fill-opacity=\"1\" /><path clip-path=\"url(#clip680)\" d=\"M 0 0 M2211.85 169.042 L2219.49 169.042 L2219.49 142.677 L2211.18 144.343 L2211.18 140.084 L2219.45 138.418 L2224.12 138.418 L2224.12 169.042 L2231.76 169.042 L2231.76 172.978 L2211.85 172.978 L2211.85 169.042 Z\" fill=\"#000000\" fill-rule=\"evenodd\" fill-opacity=\"1\" /></svg>\n"
               },
               "type": "node"
              }
             ],
             "instanceArgs": {
              "namespace": "html",
              "tag": "div"
             },
             "nodeType": "DOM",
             "props": {
              "className": "interact-flex-row interact-widget"
             },
             "type": "node"
            }
           }
          },
          "systemjs_options": null
         },
         "nodeType": "Scope",
         "props": {},
         "type": "node"
        }
       ],
       "instanceArgs": {
        "namespace": "html",
        "tag": "div"
       },
       "nodeType": "DOM",
       "props": {},
       "type": "node"
      },
      "text/html": [
       "<div\n",
       "    class=\"webio-mountpoint\"\n",
       "    data-webio-mountpoint=\"5106579415627230590\"\n",
       ">\n",
       "    <script>\n",
       "    if (window.require && require.defined && require.defined(\"nbextensions/webio-jupyter-notebook\")) {\n",
       "        console.log(\"Jupyter WebIO extension detected, not mounting.\");\n",
       "    } else if (window.WebIO) {\n",
       "        WebIO.mount(\n",
       "            document.querySelector('[data-webio-mountpoint=\"5106579415627230590\"]'),\n",
       "            {\"props\":{},\"nodeType\":\"DOM\",\"type\":\"node\",\"instanceArgs\":{\"namespace\":\"html\",\"tag\":\"div\"},\"children\":[{\"props\":{\"className\":\"field interact-widget\"},\"nodeType\":\"DOM\",\"type\":\"node\",\"instanceArgs\":{\"namespace\":\"html\",\"tag\":\"div\"},\"children\":[{\"props\":{},\"nodeType\":\"Scope\",\"type\":\"node\",\"instanceArgs\":{\"imports\":{\"data\":[{\"name\":\"knockout\",\"type\":\"js\",\"url\":\"\\/assetserver\\/7ce5fb94901cd9817b0d2f5c55656bbbc8077c10-knockout.js\"},{\"name\":\"knockout_punches\",\"type\":\"js\",\"url\":\"\\/assetserver\\/bd9fbe3cc592c27356f31921aa080f1c09d2cb5d-knockout_punches.js\"},{\"name\":null,\"type\":\"js\",\"url\":\"\\/assetserver\\/53a4a020ad3c5d89d02f3f5e8374f2fa3d38bcf9-all.js\"},{\"name\":null,\"type\":\"css\",\"url\":\"\\/assetserver\\/543c2aa71619908ee80841774e58af2a8a854d60-style.css\"},{\"name\":null,\"type\":\"css\",\"url\":\"\\/assetserver\\/62b0c7544019fc934d3511d29e7b58032a866f63-bulma_confined.min.css\"}],\"type\":\"async_block\"},\"id\":\"8530363249624264703\",\"handlers\":{\"changes\":[\"(function (val){return (val!=this.model[\\\"changes\\\"]()) ? (this.valueFromJulia[\\\"changes\\\"]=true, this.model[\\\"changes\\\"](val)) : undefined})\"],\"index\":[\"(function (val){return (val!=this.model[\\\"index\\\"]()) ? (this.valueFromJulia[\\\"index\\\"]=true, this.model[\\\"index\\\"](val)) : undefined})\"]},\"systemjs_options\":null,\"mount_callbacks\":[\"function () {\\n    var handler = (function (ko, koPunches) {\\n    ko.punches.enableAll();\\n    ko.bindingHandlers.numericValue = {\\n        init: function(element, valueAccessor, allBindings, data, context) {\\n            var stringified = ko.observable(ko.unwrap(valueAccessor()));\\n            stringified.subscribe(function(value) {\\n                var val = parseFloat(value);\\n                if (!isNaN(val)) {\\n                    valueAccessor()(val);\\n                }\\n            });\\n            valueAccessor().subscribe(function(value) {\\n                var str = JSON.stringify(value);\\n                if ((str == \\\"0\\\") && ([\\\"-0\\\", \\\"-0.\\\"].indexOf(stringified()) >= 0))\\n                     return;\\n                 if ([\\\"null\\\", \\\"\\\"].indexOf(str) >= 0)\\n                     return;\\n                stringified(str);\\n            });\\n            ko.applyBindingsToNode(\\n                element,\\n                {\\n                    value: stringified,\\n                    valueUpdate: allBindings.get('valueUpdate'),\\n                },\\n                context,\\n            );\\n        }\\n    };\\n    var json_data = {\\\"formatted_vals\\\":[\\\"0.5\\\",\\\"0.89\\\",\\\"1.28\\\",\\\"1.67\\\",\\\"2.06\\\",\\\"2.45\\\",\\\"2.84\\\",\\\"3.23\\\",\\\"3.62\\\",\\\"4.01\\\",\\\"4.4\\\",\\\"4.79\\\",\\\"5.18\\\",\\\"5.57\\\",\\\"5.96\\\",\\\"6.35\\\",\\\"6.74\\\",\\\"7.13\\\",\\\"7.52\\\",\\\"7.91\\\",\\\"8.3\\\",\\\"8.69\\\",\\\"9.08\\\",\\\"9.47\\\",\\\"9.86\\\",\\\"10.25\\\",\\\"10.64\\\",\\\"11.03\\\",\\\"11.42\\\",\\\"11.81\\\",\\\"12.2\\\",\\\"12.59\\\",\\\"12.98\\\",\\\"13.37\\\",\\\"13.76\\\",\\\"14.15\\\",\\\"14.54\\\",\\\"14.93\\\",\\\"15.32\\\",\\\"15.71\\\",\\\"16.1\\\",\\\"16.49\\\",\\\"16.88\\\",\\\"17.27\\\",\\\"17.66\\\",\\\"18.05\\\",\\\"18.44\\\",\\\"18.83\\\",\\\"19.22\\\",\\\"19.61\\\",\\\"20.0\\\"],\\\"changes\\\":WebIO.getval({\\\"name\\\":\\\"changes\\\",\\\"scope\\\":\\\"8530363249624264703\\\",\\\"id\\\":\\\"8849164320453159752\\\",\\\"type\\\":\\\"observable\\\"}),\\\"index\\\":WebIO.getval({\\\"name\\\":\\\"index\\\",\\\"scope\\\":\\\"8530363249624264703\\\",\\\"id\\\":\\\"4249174848745641874\\\",\\\"type\\\":\\\"observable\\\"})};\\n    var self = this;\\n    function AppViewModel() {\\n        for (var key in json_data) {\\n            var el = json_data[key];\\n            this[key] = Array.isArray(el) ? ko.observableArray(el) : ko.observable(el);\\n        }\\n        \\n        [this[\\\"formatted_val\\\"]=ko.computed(    function(){\\n        return this.formatted_vals()[parseInt(this.index())-(1)];\\n    }\\n,this)]\\n        [this[\\\"changes\\\"].subscribe((function (val){!(this.valueFromJulia[\\\"changes\\\"]) ? (WebIO.setval({\\\"name\\\":\\\"changes\\\",\\\"scope\\\":\\\"8530363249624264703\\\",\\\"id\\\":\\\"8849164320453159752\\\",\\\"type\\\":\\\"observable\\\"},val)) : undefined; return this.valueFromJulia[\\\"changes\\\"]=false}),self),this[\\\"index\\\"].subscribe((function (val){!(this.valueFromJulia[\\\"index\\\"]) ? (WebIO.setval({\\\"name\\\":\\\"index\\\",\\\"scope\\\":\\\"8530363249624264703\\\",\\\"id\\\":\\\"4249174848745641874\\\",\\\"type\\\":\\\"observable\\\"},val)) : undefined; return this.valueFromJulia[\\\"index\\\"]=false}),self)]\\n        \\n    }\\n    self.model = new AppViewModel();\\n    self.valueFromJulia = {};\\n    for (var key in json_data) {\\n        self.valueFromJulia[key] = false;\\n    }\\n    ko.applyBindings(self.model, self.dom);\\n}\\n);\\n    (WebIO.importBlock({\\\"data\\\":[{\\\"name\\\":\\\"knockout\\\",\\\"type\\\":\\\"js\\\",\\\"url\\\":\\\"\\/assetserver\\/7ce5fb94901cd9817b0d2f5c55656bbbc8077c10-knockout.js\\\"},{\\\"name\\\":\\\"knockout_punches\\\",\\\"type\\\":\\\"js\\\",\\\"url\\\":\\\"\\/assetserver\\/bd9fbe3cc592c27356f31921aa080f1c09d2cb5d-knockout_punches.js\\\"}],\\\"type\\\":\\\"async_block\\\"})).then((imports) => handler.apply(this, imports));\\n}\\n\"],\"observables\":{\"changes\":{\"sync\":false,\"id\":\"8849164320453159752\",\"value\":0},\"index\":{\"sync\":true,\"id\":\"4249174848745641874\",\"value\":26}}},\"children\":[{\"props\":{\"className\":\"interact-flex-row interact-widget\"},\"nodeType\":\"DOM\",\"type\":\"node\",\"instanceArgs\":{\"namespace\":\"html\",\"tag\":\"div\"},\"children\":[{\"props\":{\"className\":\"interact-flex-row-left\"},\"nodeType\":\"DOM\",\"type\":\"node\",\"instanceArgs\":{\"namespace\":\"html\",\"tag\":\"div\"},\"children\":[{\"props\":{\"className\":\"interact \",\"style\":{\"padding\":\"5px 10px 0px 10px\"}},\"nodeType\":\"DOM\",\"type\":\"node\",\"instanceArgs\":{\"namespace\":\"html\",\"tag\":\"label\"},\"children\":[\"k\"]}]},{\"props\":{\"className\":\"interact-flex-row-center\"},\"nodeType\":\"DOM\",\"type\":\"node\",\"instanceArgs\":{\"namespace\":\"html\",\"tag\":\"div\"},\"children\":[{\"props\":{\"max\":51,\"min\":1,\"attributes\":{\"type\":\"range\",\"data-bind\":\"numericValue: index, valueUpdate: 'input', event: {change: function (){this.changes(this.changes()+1)}}\",\"orient\":\"horizontal\"},\"step\":1,\"className\":\"slider slider is-fullwidth\",\"style\":{}},\"nodeType\":\"DOM\",\"type\":\"node\",\"instanceArgs\":{\"namespace\":\"html\",\"tag\":\"input\"},\"children\":[]}]},{\"props\":{\"className\":\"interact-flex-row-right\"},\"nodeType\":\"DOM\",\"type\":\"node\",\"instanceArgs\":{\"namespace\":\"html\",\"tag\":\"div\"},\"children\":[{\"props\":{\"attributes\":{\"data-bind\":\"text: formatted_val\"}},\"nodeType\":\"DOM\",\"type\":\"node\",\"instanceArgs\":{\"namespace\":\"html\",\"tag\":\"p\"},\"children\":[]}]}]}]}]},{\"props\":{\"className\":\"field interact-widget\"},\"nodeType\":\"DOM\",\"type\":\"node\",\"instanceArgs\":{\"namespace\":\"html\",\"tag\":\"div\"},\"children\":[{\"props\":{},\"nodeType\":\"Scope\",\"type\":\"node\",\"instanceArgs\":{\"imports\":{\"data\":[{\"name\":\"knockout\",\"type\":\"js\",\"url\":\"\\/assetserver\\/7ce5fb94901cd9817b0d2f5c55656bbbc8077c10-knockout.js\"},{\"name\":\"knockout_punches\",\"type\":\"js\",\"url\":\"\\/assetserver\\/bd9fbe3cc592c27356f31921aa080f1c09d2cb5d-knockout_punches.js\"},{\"name\":null,\"type\":\"js\",\"url\":\"\\/assetserver\\/53a4a020ad3c5d89d02f3f5e8374f2fa3d38bcf9-all.js\"},{\"name\":null,\"type\":\"css\",\"url\":\"\\/assetserver\\/543c2aa71619908ee80841774e58af2a8a854d60-style.css\"},{\"name\":null,\"type\":\"css\",\"url\":\"\\/assetserver\\/62b0c7544019fc934d3511d29e7b58032a866f63-bulma_confined.min.css\"}],\"type\":\"async_block\"},\"id\":\"5959029807927191311\",\"handlers\":{\"changes\":[\"(function (val){return (val!=this.model[\\\"changes\\\"]()) ? (this.valueFromJulia[\\\"changes\\\"]=true, this.model[\\\"changes\\\"](val)) : undefined})\"],\"index\":[\"(function (val){return (val!=this.model[\\\"index\\\"]()) ? (this.valueFromJulia[\\\"index\\\"]=true, this.model[\\\"index\\\"](val)) : undefined})\"]},\"systemjs_options\":null,\"mount_callbacks\":[\"function () {\\n    var handler = (function (ko, koPunches) {\\n    ko.punches.enableAll();\\n    ko.bindingHandlers.numericValue = {\\n        init: function(element, valueAccessor, allBindings, data, context) {\\n            var stringified = ko.observable(ko.unwrap(valueAccessor()));\\n            stringified.subscribe(function(value) {\\n                var val = parseFloat(value);\\n                if (!isNaN(val)) {\\n                    valueAccessor()(val);\\n                }\\n            });\\n            valueAccessor().subscribe(function(value) {\\n                var str = JSON.stringify(value);\\n                if ((str == \\\"0\\\") && ([\\\"-0\\\", \\\"-0.\\\"].indexOf(stringified()) >= 0))\\n                     return;\\n                 if ([\\\"null\\\", \\\"\\\"].indexOf(str) >= 0)\\n                     return;\\n                stringified(str);\\n            });\\n            ko.applyBindingsToNode(\\n                element,\\n                {\\n                    value: stringified,\\n                    valueUpdate: allBindings.get('valueUpdate'),\\n                },\\n                context,\\n            );\\n        }\\n    };\\n    var json_data = {\\\"formatted_vals\\\":[\\\"0.1\\\",\\\"0.298\\\",\\\"0.496\\\",\\\"0.694\\\",\\\"0.892\\\",\\\"1.09\\\",\\\"1.288\\\",\\\"1.486\\\",\\\"1.684\\\",\\\"1.882\\\",\\\"2.08\\\",\\\"2.278\\\",\\\"2.476\\\",\\\"2.674\\\",\\\"2.872\\\",\\\"3.07\\\",\\\"3.268\\\",\\\"3.466\\\",\\\"3.664\\\",\\\"3.862\\\",\\\"4.06\\\",\\\"4.258\\\",\\\"4.456\\\",\\\"4.654\\\",\\\"4.852\\\",\\\"5.05\\\",\\\"5.248\\\",\\\"5.446\\\",\\\"5.644\\\",\\\"5.842\\\",\\\"6.04\\\",\\\"6.238\\\",\\\"6.436\\\",\\\"6.634\\\",\\\"6.832\\\",\\\"7.03\\\",\\\"7.228\\\",\\\"7.426\\\",\\\"7.624\\\",\\\"7.822\\\",\\\"8.02\\\",\\\"8.218\\\",\\\"8.416\\\",\\\"8.614\\\",\\\"8.812\\\",\\\"9.01\\\",\\\"9.208\\\",\\\"9.406\\\",\\\"9.604\\\",\\\"9.802\\\",\\\"10.0\\\"],\\\"changes\\\":WebIO.getval({\\\"name\\\":\\\"changes\\\",\\\"scope\\\":\\\"5959029807927191311\\\",\\\"id\\\":\\\"3843765453045916981\\\",\\\"type\\\":\\\"observable\\\"}),\\\"index\\\":WebIO.getval({\\\"name\\\":\\\"index\\\",\\\"scope\\\":\\\"5959029807927191311\\\",\\\"id\\\":\\\"15602173742054399799\\\",\\\"type\\\":\\\"observable\\\"})};\\n    var self = this;\\n    function AppViewModel() {\\n        for (var key in json_data) {\\n            var el = json_data[key];\\n            this[key] = Array.isArray(el) ? ko.observableArray(el) : ko.observable(el);\\n        }\\n        \\n        [this[\\\"formatted_val\\\"]=ko.computed(    function(){\\n        return this.formatted_vals()[parseInt(this.index())-(1)];\\n    }\\n,this)]\\n        [this[\\\"changes\\\"].subscribe((function (val){!(this.valueFromJulia[\\\"changes\\\"]) ? (WebIO.setval({\\\"name\\\":\\\"changes\\\",\\\"scope\\\":\\\"5959029807927191311\\\",\\\"id\\\":\\\"3843765453045916981\\\",\\\"type\\\":\\\"observable\\\"},val)) : undefined; return this.valueFromJulia[\\\"changes\\\"]=false}),self),this[\\\"index\\\"].subscribe((function (val){!(this.valueFromJulia[\\\"index\\\"]) ? (WebIO.setval({\\\"name\\\":\\\"index\\\",\\\"scope\\\":\\\"5959029807927191311\\\",\\\"id\\\":\\\"15602173742054399799\\\",\\\"type\\\":\\\"observable\\\"},val)) : undefined; return this.valueFromJulia[\\\"index\\\"]=false}),self)]\\n        \\n    }\\n    self.model = new AppViewModel();\\n    self.valueFromJulia = {};\\n    for (var key in json_data) {\\n        self.valueFromJulia[key] = false;\\n    }\\n    ko.applyBindings(self.model, self.dom);\\n}\\n);\\n    (WebIO.importBlock({\\\"data\\\":[{\\\"name\\\":\\\"knockout\\\",\\\"type\\\":\\\"js\\\",\\\"url\\\":\\\"\\/assetserver\\/7ce5fb94901cd9817b0d2f5c55656bbbc8077c10-knockout.js\\\"},{\\\"name\\\":\\\"knockout_punches\\\",\\\"type\\\":\\\"js\\\",\\\"url\\\":\\\"\\/assetserver\\/bd9fbe3cc592c27356f31921aa080f1c09d2cb5d-knockout_punches.js\\\"}],\\\"type\\\":\\\"async_block\\\"})).then((imports) => handler.apply(this, imports));\\n}\\n\"],\"observables\":{\"changes\":{\"sync\":false,\"id\":\"3843765453045916981\",\"value\":0},\"index\":{\"sync\":true,\"id\":\"15602173742054399799\",\"value\":26}}},\"children\":[{\"props\":{\"className\":\"interact-flex-row interact-widget\"},\"nodeType\":\"DOM\",\"type\":\"node\",\"instanceArgs\":{\"namespace\":\"html\",\"tag\":\"div\"},\"children\":[{\"props\":{\"className\":\"interact-flex-row-left\"},\"nodeType\":\"DOM\",\"type\":\"node\",\"instanceArgs\":{\"namespace\":\"html\",\"tag\":\"div\"},\"children\":[{\"props\":{\"className\":\"interact \",\"style\":{\"padding\":\"5px 10px 0px 10px\"}},\"nodeType\":\"DOM\",\"type\":\"node\",\"instanceArgs\":{\"namespace\":\"html\",\"tag\":\"label\"},\"children\":[\"theta\"]}]},{\"props\":{\"className\":\"interact-flex-row-center\"},\"nodeType\":\"DOM\",\"type\":\"node\",\"instanceArgs\":{\"namespace\":\"html\",\"tag\":\"div\"},\"children\":[{\"props\":{\"max\":51,\"min\":1,\"attributes\":{\"type\":\"range\",\"data-bind\":\"numericValue: index, valueUpdate: 'input', event: {change: function (){this.changes(this.changes()+1)}}\",\"orient\":\"horizontal\"},\"step\":1,\"className\":\"slider slider is-fullwidth\",\"style\":{}},\"nodeType\":\"DOM\",\"type\":\"node\",\"instanceArgs\":{\"namespace\":\"html\",\"tag\":\"input\"},\"children\":[]}]},{\"props\":{\"className\":\"interact-flex-row-right\"},\"nodeType\":\"DOM\",\"type\":\"node\",\"instanceArgs\":{\"namespace\":\"html\",\"tag\":\"div\"},\"children\":[{\"props\":{\"attributes\":{\"data-bind\":\"text: formatted_val\"}},\"nodeType\":\"DOM\",\"type\":\"node\",\"instanceArgs\":{\"namespace\":\"html\",\"tag\":\"p\"},\"children\":[]}]}]}]}]},{\"props\":{},\"nodeType\":\"Scope\",\"type\":\"node\",\"instanceArgs\":{\"imports\":{\"data\":[],\"type\":\"async_block\"},\"id\":\"3691694162270323468\",\"handlers\":{},\"systemjs_options\":null,\"mount_callbacks\":[],\"observables\":{\"obs-node\":{\"sync\":false,\"id\":\"12382766545073198372\",\"value\":{\"props\":{\"className\":\"interact-flex-row interact-widget\"},\"nodeType\":\"DOM\",\"type\":\"node\",\"instanceArgs\":{\"namespace\":\"html\",\"tag\":\"div\"},\"children\":[{\"props\":{\"setInnerHtml\":\"<?xml version=\\\"1.0\\\" encoding=\\\"utf-8\\\"?>\\n<svg xmlns=\\\"http:\\/\\/www.w3.org\\/2000\\/svg\\\" xmlns:xlink=\\\"http:\\/\\/www.w3.org\\/1999\\/xlink\\\" width=\\\"600\\\" height=\\\"400\\\" viewBox=\\\"0 0 2400 1600\\\">\\n<defs>\\n  <clipPath id=\\\"clip640\\\">\\n    <rect x=\\\"0\\\" y=\\\"0\\\" width=\\\"2400\\\" height=\\\"1600\\\"\\/>\\n  <\\/clipPath>\\n<\\/defs>\\n<path clip-path=\\\"url(#clip640)\\\" d=\\\"\\nM0 1600 L2400 1600 L2400 0 L0 0  Z\\n  \\\" fill=\\\"#ffffff\\\" fill-rule=\\\"evenodd\\\" fill-opacity=\\\"1\\\"\\/>\\n<defs>\\n  <clipPath id=\\\"clip641\\\">\\n    <rect x=\\\"480\\\" y=\\\"0\\\" width=\\\"1681\\\" height=\\\"1600\\\"\\/>\\n  <\\/clipPath>\\n<\\/defs>\\n<path clip-path=\\\"url(#clip640)\\\" d=\\\"\\nM174.862 1486.45 L2352.76 1486.45 L2352.76 47.2441 L174.862 47.2441  Z\\n  \\\" fill=\\\"#ffffff\\\" fill-rule=\\\"evenodd\\\" fill-opacity=\\\"1\\\"\\/>\\n<defs>\\n  <clipPath id=\\\"clip642\\\">\\n    <rect x=\\\"174\\\" y=\\\"47\\\" width=\\\"2179\\\" height=\\\"1440\\\"\\/>\\n  <\\/clipPath>\\n<\\/defs>\\n<polyline clip-path=\\\"url(#clip642)\\\" style=\\\"stroke:#000000; stroke-width:2; stroke-opacity:0.1; fill:none\\\" points=\\\"\\n  236.501,1486.45 236.501,47.2441 \\n  \\\"\\/>\\n<polyline clip-path=\\\"url(#clip642)\\\" style=\\\"stroke:#000000; stroke-width:2; stroke-opacity:0.1; fill:none\\\" points=\\\"\\n  647.424,1486.45 647.424,47.2441 \\n  \\\"\\/>\\n<polyline clip-path=\\\"url(#clip642)\\\" style=\\\"stroke:#000000; stroke-width:2; stroke-opacity:0.1; fill:none\\\" points=\\\"\\n  1058.35,1486.45 1058.35,47.2441 \\n  \\\"\\/>\\n<polyline clip-path=\\\"url(#clip642)\\\" style=\\\"stroke:#000000; stroke-width:2; stroke-opacity:0.1; fill:none\\\" points=\\\"\\n  1469.27,1486.45 1469.27,47.2441 \\n  \\\"\\/>\\n<polyline clip-path=\\\"url(#clip642)\\\" style=\\\"stroke:#000000; stroke-width:2; stroke-opacity:0.1; fill:none\\\" points=\\\"\\n  1880.19,1486.45 1880.19,47.2441 \\n  \\\"\\/>\\n<polyline clip-path=\\\"url(#clip642)\\\" style=\\\"stroke:#000000; stroke-width:2; stroke-opacity:0.1; fill:none\\\" points=\\\"\\n  2291.12,1486.45 2291.12,47.2441 \\n  \\\"\\/>\\n<polyline clip-path=\\\"url(#clip640)\\\" style=\\\"stroke:#000000; stroke-width:4; stroke-opacity:1; fill:none\\\" points=\\\"\\n  174.862,1486.45 2352.76,1486.45 \\n  \\\"\\/>\\n<polyline clip-path=\\\"url(#clip640)\\\" style=\\\"stroke:#000000; stroke-width:4; stroke-opacity:1; fill:none\\\" points=\\\"\\n  236.501,1486.45 236.501,1469.18 \\n  \\\"\\/>\\n<polyline clip-path=\\\"url(#clip640)\\\" style=\\\"stroke:#000000; stroke-width:4; stroke-opacity:1; fill:none\\\" points=\\\"\\n  647.424,1486.45 647.424,1469.18 \\n  \\\"\\/>\\n<polyline clip-path=\\\"url(#clip640)\\\" style=\\\"stroke:#000000; stroke-width:4; stroke-opacity:1; fill:none\\\" points=\\\"\\n  1058.35,1486.45 1058.35,1469.18 \\n  \\\"\\/>\\n<polyline clip-path=\\\"url(#clip640)\\\" style=\\\"stroke:#000000; stroke-width:4; stroke-opacity:1; fill:none\\\" points=\\\"\\n  1469.27,1486.45 1469.27,1469.18 \\n  \\\"\\/>\\n<polyline clip-path=\\\"url(#clip640)\\\" style=\\\"stroke:#000000; stroke-width:4; stroke-opacity:1; fill:none\\\" points=\\\"\\n  1880.19,1486.45 1880.19,1469.18 \\n  \\\"\\/>\\n<polyline clip-path=\\\"url(#clip640)\\\" style=\\\"stroke:#000000; stroke-width:4; stroke-opacity:1; fill:none\\\" points=\\\"\\n  2291.12,1486.45 2291.12,1469.18 \\n  \\\"\\/>\\n<path clip-path=\\\"url(#clip640)\\\" d=\\\"M 0 0 M236.501 1515.64 Q232.889 1515.64 231.061 1519.2 Q229.255 1522.75 229.255 1529.87 Q229.255 1536.98 231.061 1540.55 Q232.889 1544.09 236.501 1544.09 Q240.135 1544.09 241.94 1540.55 Q243.769 1536.98 243.769 1529.87 Q243.769 1522.75 241.94 1519.2 Q240.135 1515.64 236.501 1515.64 M236.501 1511.93 Q242.311 1511.93 245.366 1516.54 Q248.445 1521.12 248.445 1529.87 Q248.445 1538.6 245.366 1543.21 Q242.311 1547.79 236.501 1547.79 Q230.69 1547.79 227.612 1543.21 Q224.556 1538.6 224.556 1529.87 Q224.556 1521.12 227.612 1516.54 Q230.69 1511.93 236.501 1511.93 Z\\\" fill=\\\"#000000\\\" fill-rule=\\\"evenodd\\\" fill-opacity=\\\"1\\\" \\/><path clip-path=\\\"url(#clip640)\\\" d=\\\"M 0 0 M637.702 1512.56 L656.058 1512.56 L656.058 1516.5 L641.984 1516.5 L641.984 1524.97 Q643.003 1524.62 644.021 1524.46 Q645.04 1524.27 646.058 1524.27 Q651.845 1524.27 655.225 1527.44 Q658.604 1530.62 658.604 1536.03 Q658.604 1541.61 655.132 1544.71 Q651.66 1547.79 645.341 1547.79 Q643.165 1547.79 640.896 1547.42 Q638.651 1547.05 636.243 1546.31 L636.243 1541.61 Q638.327 1542.74 640.549 1543.3 Q642.771 1543.86 645.248 1543.86 Q649.253 1543.86 651.591 1541.75 Q653.928 1539.64 653.928 1536.03 Q653.928 1532.42 651.591 1530.31 Q649.253 1528.21 645.248 1528.21 Q643.373 1528.21 641.498 1528.62 Q639.646 1529.04 637.702 1529.92 L637.702 1512.56 Z\\\" fill=\\\"#000000\\\" fill-rule=\\\"evenodd\\\" fill-opacity=\\\"1\\\" \\/><path clip-path=\\\"url(#clip640)\\\" d=\\\"M 0 0 M1035.22 1543.18 L1042.86 1543.18 L1042.86 1516.82 L1034.55 1518.49 L1034.55 1514.23 L1042.81 1512.56 L1047.49 1512.56 L1047.49 1543.18 L1055.13 1543.18 L1055.13 1547.12 L1035.22 1547.12 L1035.22 1543.18 Z\\\" fill=\\\"#000000\\\" fill-rule=\\\"evenodd\\\" fill-opacity=\\\"1\\\" \\/><path clip-path=\\\"url(#clip640)\\\" d=\\\"M 0 0 M1070.2 1515.64 Q1066.59 1515.64 1064.76 1519.2 Q1062.95 1522.75 1062.95 1529.87 Q1062.95 1536.98 1064.76 1540.55 Q1066.59 1544.09 1070.2 1544.09 Q1073.83 1544.09 1075.64 1540.55 Q1077.47 1536.98 1077.47 1529.87 Q1077.47 1522.75 1075.64 1519.2 Q1073.83 1515.64 1070.2 1515.64 M1070.2 1511.93 Q1076.01 1511.93 1079.06 1516.54 Q1082.14 1521.12 1082.14 1529.87 Q1082.14 1538.6 1079.06 1543.21 Q1076.01 1547.79 1070.2 1547.79 Q1064.39 1547.79 1061.31 1543.21 Q1058.25 1538.6 1058.25 1529.87 Q1058.25 1521.12 1061.31 1516.54 Q1064.39 1511.93 1070.2 1511.93 Z\\\" fill=\\\"#000000\\\" fill-rule=\\\"evenodd\\\" fill-opacity=\\\"1\\\" \\/><path clip-path=\\\"url(#clip640)\\\" d=\\\"M 0 0 M1446.64 1543.18 L1454.28 1543.18 L1454.28 1516.82 L1445.97 1518.49 L1445.97 1514.23 L1454.24 1512.56 L1458.91 1512.56 L1458.91 1543.18 L1466.55 1543.18 L1466.55 1547.12 L1446.64 1547.12 L1446.64 1543.18 Z\\\" fill=\\\"#000000\\\" fill-rule=\\\"evenodd\\\" fill-opacity=\\\"1\\\" \\/><path clip-path=\\\"url(#clip640)\\\" d=\\\"M 0 0 M1471.67 1512.56 L1490.02 1512.56 L1490.02 1516.5 L1475.95 1516.5 L1475.95 1524.97 Q1476.97 1524.62 1477.99 1524.46 Q1479 1524.27 1480.02 1524.27 Q1485.81 1524.27 1489.19 1527.44 Q1492.57 1530.62 1492.57 1536.03 Q1492.57 1541.61 1489.1 1544.71 Q1485.62 1547.79 1479.31 1547.79 Q1477.13 1547.79 1474.86 1547.42 Q1472.62 1547.05 1470.21 1546.31 L1470.21 1541.61 Q1472.29 1542.74 1474.51 1543.3 Q1476.74 1543.86 1479.21 1543.86 Q1483.22 1543.86 1485.56 1541.75 Q1487.89 1539.64 1487.89 1536.03 Q1487.89 1532.42 1485.56 1530.31 Q1483.22 1528.21 1479.21 1528.21 Q1477.34 1528.21 1475.46 1528.62 Q1473.61 1529.04 1471.67 1529.92 L1471.67 1512.56 Z\\\" fill=\\\"#000000\\\" fill-rule=\\\"evenodd\\\" fill-opacity=\\\"1\\\" \\/><path clip-path=\\\"url(#clip640)\\\" d=\\\"M 0 0 M1861.34 1543.18 L1877.66 1543.18 L1877.66 1547.12 L1855.71 1547.12 L1855.71 1543.18 Q1858.38 1540.43 1862.96 1535.8 Q1867.57 1531.15 1868.75 1529.81 Q1870.99 1527.28 1871.87 1525.55 Q1872.78 1523.79 1872.78 1522.1 Q1872.78 1519.34 1870.83 1517.61 Q1868.91 1515.87 1865.81 1515.87 Q1863.61 1515.87 1861.15 1516.63 Q1858.72 1517.4 1855.95 1518.95 L1855.95 1514.23 Q1858.77 1513.09 1861.22 1512.51 Q1863.68 1511.93 1865.71 1511.93 Q1871.09 1511.93 1874.28 1514.62 Q1877.47 1517.31 1877.47 1521.8 Q1877.47 1523.93 1876.66 1525.85 Q1875.88 1527.74 1873.77 1530.34 Q1873.19 1531.01 1870.09 1534.23 Q1866.99 1537.42 1861.34 1543.18 Z\\\" fill=\\\"#000000\\\" fill-rule=\\\"evenodd\\\" fill-opacity=\\\"1\\\" \\/><path clip-path=\\\"url(#clip640)\\\" d=\\\"M 0 0 M1892.73 1515.64 Q1889.12 1515.64 1887.29 1519.2 Q1885.48 1522.75 1885.48 1529.87 Q1885.48 1536.98 1887.29 1540.55 Q1889.12 1544.09 1892.73 1544.09 Q1896.36 1544.09 1898.17 1540.55 Q1900 1536.98 1900 1529.87 Q1900 1522.75 1898.17 1519.2 Q1896.36 1515.64 1892.73 1515.64 M1892.73 1511.93 Q1898.54 1511.93 1901.59 1516.54 Q1904.67 1521.12 1904.67 1529.87 Q1904.67 1538.6 1901.59 1543.21 Q1898.54 1547.79 1892.73 1547.79 Q1886.92 1547.79 1883.84 1543.21 Q1880.78 1538.6 1880.78 1529.87 Q1880.78 1521.12 1883.84 1516.54 Q1886.92 1511.93 1892.73 1511.93 Z\\\" fill=\\\"#000000\\\" fill-rule=\\\"evenodd\\\" fill-opacity=\\\"1\\\" \\/><path clip-path=\\\"url(#clip640)\\\" d=\\\"M 0 0 M2272.76 1543.18 L2289.08 1543.18 L2289.08 1547.12 L2267.14 1547.12 L2267.14 1543.18 Q2269.8 1540.43 2274.38 1535.8 Q2278.99 1531.15 2280.17 1529.81 Q2282.41 1527.28 2283.29 1525.55 Q2284.2 1523.79 2284.2 1522.1 Q2284.2 1519.34 2282.25 1517.61 Q2280.33 1515.87 2277.23 1515.87 Q2275.03 1515.87 2272.58 1516.63 Q2270.15 1517.4 2267.37 1518.95 L2267.37 1514.23 Q2270.19 1513.09 2272.65 1512.51 Q2275.1 1511.93 2277.14 1511.93 Q2282.51 1511.93 2285.7 1514.62 Q2288.9 1517.31 2288.9 1521.8 Q2288.9 1523.93 2288.09 1525.85 Q2287.3 1527.74 2285.19 1530.34 Q2284.61 1531.01 2281.51 1534.23 Q2278.41 1537.42 2272.76 1543.18 Z\\\" fill=\\\"#000000\\\" fill-rule=\\\"evenodd\\\" fill-opacity=\\\"1\\\" \\/><path clip-path=\\\"url(#clip640)\\\" d=\\\"M 0 0 M2294.2 1512.56 L2312.55 1512.56 L2312.55 1516.5 L2298.48 1516.5 L2298.48 1524.97 Q2299.5 1524.62 2300.52 1524.46 Q2301.53 1524.27 2302.55 1524.27 Q2308.34 1524.27 2311.72 1527.44 Q2315.1 1530.62 2315.1 1536.03 Q2315.1 1541.61 2311.63 1544.71 Q2308.15 1547.79 2301.83 1547.79 Q2299.66 1547.79 2297.39 1547.42 Q2295.15 1547.05 2292.74 1546.31 L2292.74 1541.61 Q2294.82 1542.74 2297.04 1543.3 Q2299.27 1543.86 2301.74 1543.86 Q2305.75 1543.86 2308.08 1541.75 Q2310.42 1539.64 2310.42 1536.03 Q2310.42 1532.42 2308.08 1530.31 Q2305.75 1528.21 2301.74 1528.21 Q2299.87 1528.21 2297.99 1528.62 Q2296.14 1529.04 2294.2 1529.92 L2294.2 1512.56 Z\\\" fill=\\\"#000000\\\" fill-rule=\\\"evenodd\\\" fill-opacity=\\\"1\\\" \\/><polyline clip-path=\\\"url(#clip642)\\\" style=\\\"stroke:#000000; stroke-width:2; stroke-opacity:0.1; fill:none\\\" points=\\\"\\n  174.862,1486.45 2352.76,1486.45 \\n  \\\"\\/>\\n<polyline clip-path=\\\"url(#clip642)\\\" style=\\\"stroke:#000000; stroke-width:2; stroke-opacity:0.1; fill:none\\\" points=\\\"\\n  174.862,1126.65 2352.76,1126.65 \\n  \\\"\\/>\\n<polyline clip-path=\\\"url(#clip642)\\\" style=\\\"stroke:#000000; stroke-width:2; stroke-opacity:0.1; fill:none\\\" points=\\\"\\n  174.862,766.846 2352.76,766.846 \\n  \\\"\\/>\\n<polyline clip-path=\\\"url(#clip642)\\\" style=\\\"stroke:#000000; stroke-width:2; stroke-opacity:0.1; fill:none\\\" points=\\\"\\n  174.862,407.045 2352.76,407.045 \\n  \\\"\\/>\\n<polyline clip-path=\\\"url(#clip642)\\\" style=\\\"stroke:#000000; stroke-width:2; stroke-opacity:0.1; fill:none\\\" points=\\\"\\n  174.862,47.2441 2352.76,47.2441 \\n  \\\"\\/>\\n<polyline clip-path=\\\"url(#clip640)\\\" style=\\\"stroke:#000000; stroke-width:4; stroke-opacity:1; fill:none\\\" points=\\\"\\n  174.862,1486.45 174.862,47.2441 \\n  \\\"\\/>\\n<polyline clip-path=\\\"url(#clip640)\\\" style=\\\"stroke:#000000; stroke-width:4; stroke-opacity:1; fill:none\\\" points=\\\"\\n  174.862,1486.45 200.997,1486.45 \\n  \\\"\\/>\\n<polyline clip-path=\\\"url(#clip640)\\\" style=\\\"stroke:#000000; stroke-width:4; stroke-opacity:1; fill:none\\\" points=\\\"\\n  174.862,1126.65 200.997,1126.65 \\n  \\\"\\/>\\n<polyline clip-path=\\\"url(#clip640)\\\" style=\\\"stroke:#000000; stroke-width:4; stroke-opacity:1; fill:none\\\" points=\\\"\\n  174.862,766.846 200.997,766.846 \\n  \\\"\\/>\\n<polyline clip-path=\\\"url(#clip640)\\\" style=\\\"stroke:#000000; stroke-width:4; stroke-opacity:1; fill:none\\\" points=\\\"\\n  174.862,407.045 200.997,407.045 \\n  \\\"\\/>\\n<polyline clip-path=\\\"url(#clip640)\\\" style=\\\"stroke:#000000; stroke-width:4; stroke-opacity:1; fill:none\\\" points=\\\"\\n  174.862,47.2441 200.997,47.2441 \\n  \\\"\\/>\\n<path clip-path=\\\"url(#clip640)\\\" d=\\\"M 0 0 M62.9365 1472.25 Q59.3254 1472.25 57.4967 1475.81 Q55.6912 1479.35 55.6912 1486.48 Q55.6912 1493.59 57.4967 1497.15 Q59.3254 1500.7 62.9365 1500.7 Q66.5707 1500.7 68.3763 1497.15 Q70.205 1493.59 70.205 1486.48 Q70.205 1479.35 68.3763 1475.81 Q66.5707 1472.25 62.9365 1472.25 M62.9365 1468.54 Q68.7467 1468.54 71.8022 1473.15 Q74.8809 1477.73 74.8809 1486.48 Q74.8809 1495.21 71.8022 1499.82 Q68.7467 1504.4 62.9365 1504.4 Q57.1264 1504.4 54.0477 1499.82 Q50.9921 1495.21 50.9921 1486.48 Q50.9921 1477.73 54.0477 1473.15 Q57.1264 1468.54 62.9365 1468.54 Z\\\" fill=\\\"#000000\\\" fill-rule=\\\"evenodd\\\" fill-opacity=\\\"1\\\" \\/><path clip-path=\\\"url(#clip640)\\\" d=\\\"M 0 0 M79.9503 1497.85 L84.8345 1497.85 L84.8345 1503.73 L79.9503 1503.73 L79.9503 1497.85 Z\\\" fill=\\\"#000000\\\" fill-rule=\\\"evenodd\\\" fill-opacity=\\\"1\\\" \\/><path clip-path=\\\"url(#clip640)\\\" d=\\\"M 0 0 M99.9039 1472.25 Q96.2928 1472.25 94.4641 1475.81 Q92.6586 1479.35 92.6586 1486.48 Q92.6586 1493.59 94.4641 1497.15 Q96.2928 1500.7 99.9039 1500.7 Q103.538 1500.7 105.344 1497.15 Q107.172 1493.59 107.172 1486.48 Q107.172 1479.35 105.344 1475.81 Q103.538 1472.25 99.9039 1472.25 M99.9039 1468.54 Q105.714 1468.54 108.77 1473.15 Q111.848 1477.73 111.848 1486.48 Q111.848 1495.21 108.77 1499.82 Q105.714 1504.4 99.9039 1504.4 Q94.0937 1504.4 91.0151 1499.82 Q87.9595 1495.21 87.9595 1486.48 Q87.9595 1477.73 91.0151 1473.15 Q94.0937 1468.54 99.9039 1468.54 Z\\\" fill=\\\"#000000\\\" fill-rule=\\\"evenodd\\\" fill-opacity=\\\"1\\\" \\/><path clip-path=\\\"url(#clip640)\\\" d=\\\"M 0 0 M126.918 1472.25 Q123.307 1472.25 121.478 1475.81 Q119.672 1479.35 119.672 1486.48 Q119.672 1493.59 121.478 1497.15 Q123.307 1500.7 126.918 1500.7 Q130.552 1500.7 132.357 1497.15 Q134.186 1493.59 134.186 1486.48 Q134.186 1479.35 132.357 1475.81 Q130.552 1472.25 126.918 1472.25 M126.918 1468.54 Q132.728 1468.54 135.783 1473.15 Q138.862 1477.73 138.862 1486.48 Q138.862 1495.21 135.783 1499.82 Q132.728 1504.4 126.918 1504.4 Q121.107 1504.4 118.029 1499.82 Q114.973 1495.21 114.973 1486.48 Q114.973 1477.73 118.029 1473.15 Q121.107 1468.54 126.918 1468.54 Z\\\" fill=\\\"#000000\\\" fill-rule=\\\"evenodd\\\" fill-opacity=\\\"1\\\" \\/><path clip-path=\\\"url(#clip640)\\\" d=\\\"M 0 0 M63.9319 1112.45 Q60.3208 1112.45 58.4921 1116.01 Q56.6865 1119.55 56.6865 1126.68 Q56.6865 1133.79 58.4921 1137.35 Q60.3208 1140.89 63.9319 1140.89 Q67.5661 1140.89 69.3717 1137.35 Q71.2004 1133.79 71.2004 1126.68 Q71.2004 1119.55 69.3717 1116.01 Q67.5661 1112.45 63.9319 1112.45 M63.9319 1108.74 Q69.742 1108.74 72.7976 1113.35 Q75.8763 1117.93 75.8763 1126.68 Q75.8763 1135.41 72.7976 1140.01 Q69.742 1144.6 63.9319 1144.6 Q58.1217 1144.6 55.043 1140.01 Q51.9875 1135.41 51.9875 1126.68 Q51.9875 1117.93 55.043 1113.35 Q58.1217 1108.74 63.9319 1108.74 Z\\\" fill=\\\"#000000\\\" fill-rule=\\\"evenodd\\\" fill-opacity=\\\"1\\\" \\/><path clip-path=\\\"url(#clip640)\\\" d=\\\"M 0 0 M80.9457 1138.05 L85.8299 1138.05 L85.8299 1143.93 L80.9457 1143.93 L80.9457 1138.05 Z\\\" fill=\\\"#000000\\\" fill-rule=\\\"evenodd\\\" fill-opacity=\\\"1\\\" \\/><path clip-path=\\\"url(#clip640)\\\" d=\\\"M 0 0 M100.899 1112.45 Q97.2882 1112.45 95.4595 1116.01 Q93.6539 1119.55 93.6539 1126.68 Q93.6539 1133.79 95.4595 1137.35 Q97.2882 1140.89 100.899 1140.89 Q104.534 1140.89 106.339 1137.35 Q108.168 1133.79 108.168 1126.68 Q108.168 1119.55 106.339 1116.01 Q104.534 1112.45 100.899 1112.45 M100.899 1108.74 Q106.709 1108.74 109.765 1113.35 Q112.844 1117.93 112.844 1126.68 Q112.844 1135.41 109.765 1140.01 Q106.709 1144.6 100.899 1144.6 Q95.0891 1144.6 92.0104 1140.01 Q88.9549 1135.41 88.9549 1126.68 Q88.9549 1117.93 92.0104 1113.35 Q95.0891 1108.74 100.899 1108.74 Z\\\" fill=\\\"#000000\\\" fill-rule=\\\"evenodd\\\" fill-opacity=\\\"1\\\" \\/><path clip-path=\\\"url(#clip640)\\\" d=\\\"M 0 0 M117.959 1109.37 L136.316 1109.37 L136.316 1113.3 L122.242 1113.3 L122.242 1121.77 Q123.26 1121.43 124.279 1121.27 Q125.297 1121.08 126.316 1121.08 Q132.103 1121.08 135.482 1124.25 Q138.862 1127.42 138.862 1132.84 Q138.862 1138.42 135.39 1141.52 Q131.918 1144.6 125.598 1144.6 Q123.422 1144.6 121.154 1144.23 Q118.908 1143.86 116.501 1143.12 L116.501 1138.42 Q118.584 1139.55 120.807 1140.11 Q123.029 1140.66 125.506 1140.66 Q129.51 1140.66 131.848 1138.56 Q134.186 1136.45 134.186 1132.84 Q134.186 1129.23 131.848 1127.12 Q129.51 1125.01 125.506 1125.01 Q123.631 1125.01 121.756 1125.43 Q119.904 1125.85 117.959 1126.73 L117.959 1109.37 Z\\\" fill=\\\"#000000\\\" fill-rule=\\\"evenodd\\\" fill-opacity=\\\"1\\\" \\/><path clip-path=\\\"url(#clip640)\\\" d=\\\"M 0 0 M64.1634 752.645 Q60.5523 752.645 58.7236 756.209 Q56.918 759.751 56.918 766.881 Q56.918 773.987 58.7236 777.552 Q60.5523 781.094 64.1634 781.094 Q67.7976 781.094 69.6031 777.552 Q71.4318 773.987 71.4318 766.881 Q71.4318 759.751 69.6031 756.209 Q67.7976 752.645 64.1634 752.645 M64.1634 748.941 Q69.9735 748.941 73.029 753.547 Q76.1077 758.131 76.1077 766.881 Q76.1077 775.608 73.029 780.214 Q69.9735 784.797 64.1634 784.797 Q58.3532 784.797 55.2745 780.214 Q52.219 775.608 52.219 766.881 Q52.219 758.131 55.2745 753.547 Q58.3532 748.941 64.1634 748.941 Z\\\" fill=\\\"#000000\\\" fill-rule=\\\"evenodd\\\" fill-opacity=\\\"1\\\" \\/><path clip-path=\\\"url(#clip640)\\\" d=\\\"M 0 0 M81.1771 778.246 L86.0614 778.246 L86.0614 784.126 L81.1771 784.126 L81.1771 778.246 Z\\\" fill=\\\"#000000\\\" fill-rule=\\\"evenodd\\\" fill-opacity=\\\"1\\\" \\/><path clip-path=\\\"url(#clip640)\\\" d=\\\"M 0 0 M91.941 780.191 L99.5798 780.191 L99.5798 753.825 L91.2697 755.492 L91.2697 751.233 L99.5335 749.566 L104.209 749.566 L104.209 780.191 L111.848 780.191 L111.848 784.126 L91.941 784.126 L91.941 780.191 Z\\\" fill=\\\"#000000\\\" fill-rule=\\\"evenodd\\\" fill-opacity=\\\"1\\\" \\/><path clip-path=\\\"url(#clip640)\\\" d=\\\"M 0 0 M126.918 752.645 Q123.307 752.645 121.478 756.209 Q119.672 759.751 119.672 766.881 Q119.672 773.987 121.478 777.552 Q123.307 781.094 126.918 781.094 Q130.552 781.094 132.357 777.552 Q134.186 773.987 134.186 766.881 Q134.186 759.751 132.357 756.209 Q130.552 752.645 126.918 752.645 M126.918 748.941 Q132.728 748.941 135.783 753.547 Q138.862 758.131 138.862 766.881 Q138.862 775.608 135.783 780.214 Q132.728 784.797 126.918 784.797 Q121.107 784.797 118.029 780.214 Q114.973 775.608 114.973 766.881 Q114.973 758.131 118.029 753.547 Q121.107 748.941 126.918 748.941 Z\\\" fill=\\\"#000000\\\" fill-rule=\\\"evenodd\\\" fill-opacity=\\\"1\\\" \\/><path clip-path=\\\"url(#clip640)\\\" d=\\\"M 0 0 M65.1587 392.844 Q61.5476 392.844 59.7189 396.409 Q57.9134 399.95 57.9134 407.08 Q57.9134 414.186 59.7189 417.751 Q61.5476 421.293 65.1587 421.293 Q68.793 421.293 70.5985 417.751 Q72.4272 414.186 72.4272 407.08 Q72.4272 399.95 70.5985 396.409 Q68.793 392.844 65.1587 392.844 M65.1587 389.14 Q70.9689 389.14 74.0244 393.746 Q77.1031 398.33 77.1031 407.08 Q77.1031 415.807 74.0244 420.413 Q70.9689 424.996 65.1587 424.996 Q59.3486 424.996 56.2699 420.413 Q53.2143 415.807 53.2143 407.08 Q53.2143 398.33 56.2699 393.746 Q59.3486 389.14 65.1587 389.14 Z\\\" fill=\\\"#000000\\\" fill-rule=\\\"evenodd\\\" fill-opacity=\\\"1\\\" \\/><path clip-path=\\\"url(#clip640)\\\" d=\\\"M 0 0 M82.1725 418.445 L87.0567 418.445 L87.0567 424.325 L82.1725 424.325 L82.1725 418.445 Z\\\" fill=\\\"#000000\\\" fill-rule=\\\"evenodd\\\" fill-opacity=\\\"1\\\" \\/><path clip-path=\\\"url(#clip640)\\\" d=\\\"M 0 0 M92.9363 420.39 L100.575 420.39 L100.575 394.024 L92.2651 395.691 L92.2651 391.432 L100.529 389.765 L105.205 389.765 L105.205 420.39 L112.844 420.39 L112.844 424.325 L92.9363 424.325 L92.9363 420.39 Z\\\" fill=\\\"#000000\\\" fill-rule=\\\"evenodd\\\" fill-opacity=\\\"1\\\" \\/><path clip-path=\\\"url(#clip640)\\\" d=\\\"M 0 0 M117.959 389.765 L136.316 389.765 L136.316 393.7 L122.242 393.7 L122.242 402.172 Q123.26 401.825 124.279 401.663 Q125.297 401.478 126.316 401.478 Q132.103 401.478 135.482 404.649 Q138.862 407.82 138.862 413.237 Q138.862 418.816 135.39 421.918 Q131.918 424.996 125.598 424.996 Q123.422 424.996 121.154 424.626 Q118.908 424.256 116.501 423.515 L116.501 418.816 Q118.584 419.95 120.807 420.506 Q123.029 421.061 125.506 421.061 Q129.51 421.061 131.848 418.955 Q134.186 416.848 134.186 413.237 Q134.186 409.626 131.848 407.52 Q129.51 405.413 125.506 405.413 Q123.631 405.413 121.756 405.83 Q119.904 406.246 117.959 407.126 L117.959 389.765 Z\\\" fill=\\\"#000000\\\" fill-rule=\\\"evenodd\\\" fill-opacity=\\\"1\\\" \\/><path clip-path=\\\"url(#clip640)\\\" d=\\\"M 0 0 M64.5337 33.0428 Q60.9226 33.0428 59.0939 36.6076 Q57.2884 40.1492 57.2884 47.2788 Q57.2884 54.3853 59.0939 57.9501 Q60.9226 61.4917 64.5337 61.4917 Q68.168 61.4917 69.9735 57.9501 Q71.8022 54.3853 71.8022 47.2788 Q71.8022 40.1492 69.9735 36.6076 Q68.168 33.0428 64.5337 33.0428 M64.5337 29.3391 Q70.3439 29.3391 73.3994 33.9456 Q76.4781 38.5289 76.4781 47.2788 Q76.4781 56.0056 73.3994 60.6121 Q70.3439 65.1954 64.5337 65.1954 Q58.7236 65.1954 55.6449 60.6121 Q52.5893 56.0056 52.5893 47.2788 Q52.5893 38.5289 55.6449 33.9456 Q58.7236 29.3391 64.5337 29.3391 Z\\\" fill=\\\"#000000\\\" fill-rule=\\\"evenodd\\\" fill-opacity=\\\"1\\\" \\/><path clip-path=\\\"url(#clip640)\\\" d=\\\"M 0 0 M81.5475 58.6445 L86.4318 58.6445 L86.4318 64.5241 L81.5475 64.5241 L81.5475 58.6445 Z\\\" fill=\\\"#000000\\\" fill-rule=\\\"evenodd\\\" fill-opacity=\\\"1\\\" \\/><path clip-path=\\\"url(#clip640)\\\" d=\\\"M 0 0 M95.5289 60.5889 L111.848 60.5889 L111.848 64.5241 L89.904 64.5241 L89.904 60.5889 Q92.566 57.8343 97.1493 53.2047 Q101.756 48.552 102.936 47.2094 Q105.182 44.6862 106.061 42.9501 Q106.964 41.1909 106.964 39.5011 Q106.964 36.7465 105.02 35.0104 Q103.098 33.2743 99.9965 33.2743 Q97.7974 33.2743 95.3437 34.0381 Q92.9132 34.802 90.1354 36.3529 L90.1354 31.6308 Q92.9595 30.4965 95.4132 29.9178 Q97.8669 29.3391 99.9039 29.3391 Q105.274 29.3391 108.469 32.0243 Q111.663 34.7094 111.663 39.2002 Q111.663 41.3298 110.853 43.2511 Q110.066 45.1492 107.959 47.7418 Q107.381 48.4131 104.279 51.6306 Q101.177 54.8251 95.5289 60.5889 Z\\\" fill=\\\"#000000\\\" fill-rule=\\\"evenodd\\\" fill-opacity=\\\"1\\\" \\/><path clip-path=\\\"url(#clip640)\\\" d=\\\"M 0 0 M126.918 33.0428 Q123.307 33.0428 121.478 36.6076 Q119.672 40.1492 119.672 47.2788 Q119.672 54.3853 121.478 57.9501 Q123.307 61.4917 126.918 61.4917 Q130.552 61.4917 132.357 57.9501 Q134.186 54.3853 134.186 47.2788 Q134.186 40.1492 132.357 36.6076 Q130.552 33.0428 126.918 33.0428 M126.918 29.3391 Q132.728 29.3391 135.783 33.9456 Q138.862 38.5289 138.862 47.2788 Q138.862 56.0056 135.783 60.6121 Q132.728 65.1954 126.918 65.1954 Q121.107 65.1954 118.029 60.6121 Q114.973 56.0056 114.973 47.2788 Q114.973 38.5289 118.029 33.9456 Q121.107 29.3391 126.918 29.3391 Z\\\" fill=\\\"#000000\\\" fill-rule=\\\"evenodd\\\" fill-opacity=\\\"1\\\" \\/><polyline clip-path=\\\"url(#clip642)\\\" style=\\\"stroke:#009af9; stroke-width:4; stroke-opacity:1; fill:none\\\" points=\\\"\\n  236.501,1486.45 246.774,1486.45 257.047,1486.45 267.32,1486.45 277.593,1486.45 287.866,1486.45 298.139,1486.45 308.412,1486.45 318.685,1486.45 328.958,1486.45 \\n  339.231,1486.45 349.504,1486.45 359.778,1486.45 370.051,1486.45 380.324,1486.45 390.597,1486.45 400.87,1486.45 411.143,1486.45 421.416,1486.45 431.689,1486.45 \\n  441.962,1486.45 452.235,1486.45 462.508,1486.45 472.781,1486.45 483.055,1486.45 493.328,1486.45 503.601,1486.45 513.874,1486.45 524.147,1486.45 534.42,1486.45 \\n  544.693,1486.45 554.966,1486.45 565.239,1486.45 575.512,1486.45 585.785,1486.45 596.058,1486.45 606.332,1486.45 616.605,1486.45 626.878,1486.45 637.151,1486.45 \\n  647.424,1486.45 657.697,1486.45 667.97,1486.45 678.243,1486.45 688.516,1486.45 698.789,1486.45 709.062,1486.45 719.335,1486.45 729.609,1486.44 739.882,1486.44 \\n  750.155,1486.44 760.428,1486.44 770.701,1486.44 780.974,1486.44 791.247,1486.44 801.52,1486.44 811.793,1486.44 822.066,1486.43 832.339,1486.43 842.613,1486.43 \\n  852.886,1486.43 863.159,1486.43 873.432,1486.42 883.705,1486.42 893.978,1486.42 904.251,1486.41 914.524,1486.41 924.797,1486.4 935.07,1486.4 945.343,1486.39 \\n  955.616,1486.38 965.89,1486.38 976.163,1486.37 986.436,1486.36 996.709,1486.35 1006.98,1486.34 1017.25,1486.33 1027.53,1486.32 1037.8,1486.31 1048.07,1486.29 \\n  1058.35,1486.28 1068.62,1486.26 1078.89,1486.24 1089.17,1486.22 1099.44,1486.2 1109.71,1486.18 1119.99,1486.16 1130.26,1486.14 1140.53,1486.11 1150.81,1486.08 \\n  1161.08,1486.05 1171.35,1486.02 1181.62,1485.99 1191.9,1485.95 1202.17,1485.91 1212.44,1485.87 1222.72,1485.83 1232.99,1485.78 1243.26,1485.73 1253.54,1485.68 \\n  1263.81,1485.63 1274.08,1485.57 1284.36,1485.51 1294.63,1485.45 1304.9,1485.38 1315.17,1485.31 1325.45,1485.24 1335.72,1485.16 1345.99,1485.08 1356.27,1484.99 \\n  1366.54,1484.9 1376.81,1484.81 1387.09,1484.71 1397.36,1484.61 1407.63,1484.5 1417.91,1484.39 1428.18,1484.27 1438.45,1484.15 1448.72,1484.02 1459,1483.89 \\n  1469.27,1483.75 1479.54,1483.6 1489.82,1483.45 1500.09,1483.3 1510.36,1483.13 1520.64,1482.97 1530.91,1482.79 1541.18,1482.61 1551.46,1482.42 1561.73,1482.23 \\n  1572,1482.03 1582.27,1481.82 1592.55,1481.6 1602.82,1481.38 1613.09,1481.15 1623.37,1480.91 1633.64,1480.66 1643.91,1480.41 1654.19,1480.15 1664.46,1479.87 \\n  1674.73,1479.6 1685.01,1479.31 1695.28,1479.01 1705.55,1478.71 1715.82,1478.39 1726.1,1478.07 1736.37,1477.74 1746.64,1477.4 1756.92,1477.05 1767.19,1476.69 \\n  1777.46,1476.32 1787.74,1475.94 1798.01,1475.55 1808.28,1475.16 1818.56,1474.75 1828.83,1474.33 1839.1,1473.9 1849.37,1473.46 1859.65,1473.01 1869.92,1472.55 \\n  1880.19,1472.08 1890.47,1471.6 1900.74,1471.11 1911.01,1470.61 1921.29,1470.1 1931.56,1469.58 1941.83,1469.04 1952.11,1468.5 1962.38,1467.94 1972.65,1467.38 \\n  1982.92,1466.8 1993.2,1466.21 2003.47,1465.61 2013.74,1465 2024.02,1464.38 2034.29,1463.75 2044.56,1463.11 2054.84,1462.45 2065.11,1461.79 2075.38,1461.11 \\n  2085.66,1460.42 2095.93,1459.72 2106.2,1459.01 2116.47,1458.29 2126.75,1457.56 2137.02,1456.82 2147.29,1456.06 2157.57,1455.3 2167.84,1454.53 2178.11,1453.74 \\n  2188.39,1452.94 2198.66,1452.14 2208.93,1451.32 2219.21,1450.49 2229.48,1449.65 2239.75,1448.8 2250.03,1447.94 2260.3,1447.07 2270.57,1446.2 2280.84,1445.31 \\n  2291.12,1444.41 \\n  \\\"\\/>\\n<path clip-path=\\\"url(#clip640)\\\" d=\\\"\\nM1987.15 216.178 L2280.16 216.178 L2280.16 95.2176 L1987.15 95.2176  Z\\n  \\\" fill=\\\"#ffffff\\\" fill-rule=\\\"evenodd\\\" fill-opacity=\\\"1\\\"\\/>\\n<polyline clip-path=\\\"url(#clip640)\\\" style=\\\"stroke:#000000; stroke-width:4; stroke-opacity:1; fill:none\\\" points=\\\"\\n  1987.15,216.178 2280.16,216.178 2280.16,95.2176 1987.15,95.2176 1987.15,216.178 \\n  \\\"\\/>\\n<polyline clip-path=\\\"url(#clip640)\\\" style=\\\"stroke:#009af9; stroke-width:4; stroke-opacity:1; fill:none\\\" points=\\\"\\n  2011.35,155.698 2156.54,155.698 \\n  \\\"\\/>\\n<path clip-path=\\\"url(#clip640)\\\" d=\\\"M 0 0 M2194.59 175.385 Q2192.78 180.015 2191.07 181.427 Q2189.35 182.839 2186.48 182.839 L2183.08 182.839 L2183.08 179.274 L2185.58 179.274 Q2187.34 179.274 2188.31 178.44 Q2189.29 177.607 2190.47 174.505 L2191.23 172.561 L2180.74 147.052 L2185.26 147.052 L2193.36 167.329 L2201.46 147.052 L2205.97 147.052 L2194.59 175.385 Z\\\" fill=\\\"#000000\\\" fill-rule=\\\"evenodd\\\" fill-opacity=\\\"1\\\" \\/><path clip-path=\\\"url(#clip640)\\\" d=\\\"M 0 0 M2211.85 169.042 L2219.49 169.042 L2219.49 142.677 L2211.18 144.343 L2211.18 140.084 L2219.45 138.418 L2224.12 138.418 L2224.12 169.042 L2231.76 169.042 L2231.76 172.978 L2211.85 172.978 L2211.85 169.042 Z\\\" fill=\\\"#000000\\\" fill-rule=\\\"evenodd\\\" fill-opacity=\\\"1\\\" \\/><\\/svg>\\n\"},\"nodeType\":\"DOM\",\"type\":\"node\",\"instanceArgs\":{\"namespace\":\"html\",\"tag\":\"div\"},\"children\":[]}]}}}},\"children\":[{\"props\":{},\"nodeType\":\"ObservableNode\",\"type\":\"node\",\"instanceArgs\":{\"id\":\"12382766545073198372\",\"name\":\"obs-node\"},\"children\":[]}]}]},\n",
       "            window,\n",
       "        );\n",
       "    } else {\n",
       "        document\n",
       "            .querySelector('[data-webio-mountpoint=\"5106579415627230590\"]')\n",
       "            .innerHTML = (\n",
       "                '<div style=\"padding: 1em; background-color: #f8d6da; border: 1px solid #f5c6cb\">' +\n",
       "                '<p><strong>WebIO not detected.</strong></p>' +\n",
       "                '<p>Please read ' +\n",
       "                '<a href=\"https://juliagizmos.github.io/WebIO.jl/latest/troubleshooting/not-detected/\" target=\"_blank\">the troubleshooting guide</a> ' +\n",
       "                'for more information on how to resolve this issue.</p>' +\n",
       "                '<p><a href=\"https://juliagizmos.github.io/WebIO.jl/latest/troubleshooting/not-detected/\" target=\"_blank\">https://juliagizmos.github.io/WebIO.jl/latest/troubleshooting/not-detected/</a></p>' +\n",
       "                '</div>'\n",
       "            );\n",
       "    }\n",
       "    </script>\n",
       "</div>\n"
      ],
      "text/plain": [
       "Node{WebIO.DOM}(WebIO.DOM(:html, :div), Any[Node{WebIO.DOM}(WebIO.DOM(:html, :div), Any[Scope(Node{WebIO.DOM}(WebIO.DOM(:html, :div), Any[Node{WebIO.DOM}(WebIO.DOM(:html, :div), Any[Node{WebIO.DOM}(WebIO.DOM(:html, :label), Any[\"k\"], Dict{Symbol,Any}(:className => \"interact \",:style => Dict{Any,Any}(:padding => \"5px 10px 0px 10px\")))], Dict{Symbol,Any}(:className => \"interact-flex-row-left\")), Node{WebIO.DOM}(WebIO.DOM(:html, :div), Any[Node{WebIO.DOM}(WebIO.DOM(:html, :input), Any[], Dict{Symbol,Any}(:max => 51,:min => 1,:attributes => Dict{Any,Any}(:type => \"range\",Symbol(\"data-bind\") => \"numericValue: index, valueUpdate: 'input', event: {change: function (){this.changes(this.changes()+1)}}\",\"orient\" => \"horizontal\"),:step => 1,:className => \"slider slider is-fullwidth\",:style => Dict{Any,Any}()))], Dict{Symbol,Any}(:className => \"interact-flex-row-center\")), Node{WebIO.DOM}(WebIO.DOM(:html, :div), Any[Node{WebIO.DOM}(WebIO.DOM(:html, :p), Any[], Dict{Symbol,Any}(:attributes => Dict(\"data-bind\" => \"text: formatted_val\")))], Dict{Symbol,Any}(:className => \"interact-flex-row-right\"))], Dict{Symbol,Any}(:className => \"interact-flex-row interact-widget\")), Dict{String,Tuple{Observables.AbstractObservable,Union{Nothing, Bool}}}(\"changes\" => (Observable{Int64} with 1 listeners. Value:\n",
       "0, nothing),\"index\" => (Observable{Any} with 2 listeners. Value:\n",
       "26, nothing)), Set(String[]), nothing, Asset[Asset(\"js\", \"knockout\", \"C:\\\\Users\\\\sayeg\\\\.julia\\\\packages\\\\Knockout\\\\IP1uR\\\\src\\\\..\\\\assets\\\\knockout.js\"), Asset(\"js\", \"knockout_punches\", \"C:\\\\Users\\\\sayeg\\\\.julia\\\\packages\\\\Knockout\\\\IP1uR\\\\src\\\\..\\\\assets\\\\knockout_punches.js\"), Asset(\"js\", nothing, \"C:\\\\Users\\\\sayeg\\\\.julia\\\\packages\\\\InteractBase\\\\sOe2Z\\\\src\\\\..\\\\assets\\\\all.js\"), Asset(\"css\", nothing, \"C:\\\\Users\\\\sayeg\\\\.julia\\\\packages\\\\InteractBase\\\\sOe2Z\\\\src\\\\..\\\\assets\\\\style.css\"), Asset(\"css\", nothing, \"C:\\\\Users\\\\sayeg\\\\.julia\\\\packages\\\\Interact\\\\SbgIk\\\\src\\\\..\\\\assets\\\\bulma_confined.min.css\")], Dict{Any,Any}(\"changes\" => Any[WebIO.JSString(\"(function (val){return (val!=this.model[\\\"changes\\\"]()) ? (this.valueFromJulia[\\\"changes\\\"]=true, this.model[\\\"changes\\\"](val)) : undefined})\")],\"index\" => Any[WebIO.JSString(\"(function (val){return (val!=this.model[\\\"index\\\"]()) ? (this.valueFromJulia[\\\"index\\\"]=true, this.model[\\\"index\\\"](val)) : undefined})\")]), WebIO.ConnectionPool(Channel{Any}(sz_max:32,sz_curr:0), Set(AbstractConnection[]), Base.GenericCondition{Base.AlwaysLockedST}(Base.InvasiveLinkedList{Task}(Task (runnable) @0x000000001335a850, Task (runnable) @0x000000001335a850), Base.AlwaysLockedST(1))), WebIO.JSString[WebIO.JSString(\"function () {\\n    var handler = (function (ko, koPunches) {\\n    ko.punches.enableAll();\\n    ko.bindingHandlers.numericValue = {\\n        init: function(element, valueAccessor, allBindings, data, context) {\\n            var stringified = ko.observable(ko.unwrap(valueAccessor()));\\n            stringified.subscribe(function(value) {\\n                var val = parseFloat(value);\\n                if (!isNaN(val)) {\\n                    valueAccessor()(val);\\n                }\\n            });\\n            valueAccessor().subscribe(function(value) {\\n                var str = JSON.stringify(value);\\n                if ((str == \\\"0\\\") && ([\\\"-0\\\", \\\"-0.\\\"].indexOf(stringified()) >= 0))\\n                     return;\\n                 if ([\\\"null\\\", \\\"\\\"].indexOf(str) >= 0)\\n                     return;\\n                stringified(str);\\n            });\\n            ko.applyBindingsToNode(\\n                element,\\n                {\\n                    value: stringified,\\n                    valueUpdate: allBindings.get('valueUpdate'),\\n                },\\n                context,\\n            );\\n        }\\n    };\\n    var json_data = {\\\"formatted_vals\\\":[\\\"0.5\\\",\\\"0.89\\\",\\\"1.28\\\",\\\"1.67\\\",\\\"2.06\\\",\\\"2.45\\\",\\\"2.84\\\",\\\"3.23\\\",\\\"3.62\\\",\\\"4.01\\\",\\\"4.4\\\",\\\"4.79\\\",\\\"5.18\\\",\\\"5.57\\\",\\\"5.96\\\",\\\"6.35\\\",\\\"6.74\\\",\\\"7.13\\\",\\\"7.52\\\",\\\"7.91\\\",\\\"8.3\\\",\\\"8.69\\\",\\\"9.08\\\",\\\"9.47\\\",\\\"9.86\\\",\\\"10.25\\\",\\\"10.64\\\",\\\"11.03\\\",\\\"11.42\\\",\\\"11.81\\\",\\\"12.2\\\",\\\"12.59\\\",\\\"12.98\\\",\\\"13.37\\\",\\\"13.76\\\",\\\"14.15\\\",\\\"14.54\\\",\\\"14.93\\\",\\\"15.32\\\",\\\"15.71\\\",\\\"16.1\\\",\\\"16.49\\\",\\\"16.88\\\",\\\"17.27\\\",\\\"17.66\\\",\\\"18.05\\\",\\\"18.44\\\",\\\"18.83\\\",\\\"19.22\\\",\\\"19.61\\\",\\\"20.0\\\"],\\\"changes\\\":WebIO.getval({\\\"name\\\":\\\"changes\\\",\\\"scope\\\":\\\"8530363249624264703\\\",\\\"id\\\":\\\"8849164320453159752\\\",\\\"type\\\":\\\"observable\\\"}),\\\"index\\\":WebIO.getval({\\\"name\\\":\\\"index\\\",\\\"scope\\\":\\\"8530363249624264703\\\",\\\"id\\\":\\\"4249174848745641874\\\",\\\"type\\\":\\\"observable\\\"})};\\n    var self = this;\\n    function AppViewModel() {\\n        for (var key in json_data) {\\n            var el = json_data[key];\\n            this[key] = Array.isArray(el) ? ko.observableArray(el) : ko.observable(el);\\n        }\\n        \\n        [this[\\\"formatted_val\\\"]=ko.computed(    function(){\\n        return this.formatted_vals()[parseInt(this.index())-(1)];\\n    }\\n,this)]\\n        [this[\\\"changes\\\"].subscribe((function (val){!(this.valueFromJulia[\\\"changes\\\"]) ? (WebIO.setval({\\\"name\\\":\\\"changes\\\",\\\"scope\\\":\\\"8530363249624264703\\\",\\\"id\\\":\\\"8849164320453159752\\\",\\\"type\\\":\\\"observable\\\"},val)) : undefined; return this.valueFromJulia[\\\"changes\\\"]=false}),self),this[\\\"index\\\"].subscribe((function (val){!(this.valueFromJulia[\\\"index\\\"]) ? (WebIO.setval({\\\"name\\\":\\\"index\\\",\\\"scope\\\":\\\"8530363249624264703\\\",\\\"id\\\":\\\"4249174848745641874\\\",\\\"type\\\":\\\"observable\\\"},val)) : undefined; return this.valueFromJulia[\\\"index\\\"]=false}),self)]\\n        \\n    }\\n    self.model = new AppViewModel();\\n    self.valueFromJulia = {};\\n    for (var key in json_data) {\\n        self.valueFromJulia[key] = false;\\n    }\\n    ko.applyBindings(self.model, self.dom);\\n}\\n);\\n    (WebIO.importBlock({\\\"data\\\":[{\\\"name\\\":\\\"knockout\\\",\\\"type\\\":\\\"js\\\",\\\"url\\\":\\\"/assetserver/7ce5fb94901cd9817b0d2f5c55656bbbc8077c10-knockout.js\\\"},{\\\"name\\\":\\\"knockout_punches\\\",\\\"type\\\":\\\"js\\\",\\\"url\\\":\\\"/assetserver/bd9fbe3cc592c27356f31921aa080f1c09d2cb5d-knockout_punches.js\\\"}],\\\"type\\\":\\\"async_block\\\"})).then((imports) => handler.apply(this, imports));\\n}\\n\")])], Dict{Symbol,Any}(:className => \"field interact-widget\")), Node{WebIO.DOM}(WebIO.DOM(:html, :div), Any[Scope(Node{WebIO.DOM}(WebIO.DOM(:html, :div), Any[Node{WebIO.DOM}(WebIO.DOM(:html, :div), Any[Node{WebIO.DOM}(WebIO.DOM(:html, :label), Any[\"theta\"], Dict{Symbol,Any}(:className => \"interact \",:style => Dict{Any,Any}(:padding => \"5px 10px 0px 10px\")))], Dict{Symbol,Any}(:className => \"interact-flex-row-left\")), Node{WebIO.DOM}(WebIO.DOM(:html, :div), Any[Node{WebIO.DOM}(WebIO.DOM(:html, :input), Any[], Dict{Symbol,Any}(:max => 51,:min => 1,:attributes => Dict{Any,Any}(:type => \"range\",Symbol(\"data-bind\") => \"numericValue: index, valueUpdate: 'input', event: {change: function (){this.changes(this.changes()+1)}}\",\"orient\" => \"horizontal\"),:step => 1,:className => \"slider slider is-fullwidth\",:style => Dict{Any,Any}()))], Dict{Symbol,Any}(:className => \"interact-flex-row-center\")), Node{WebIO.DOM}(WebIO.DOM(:html, :div), Any[Node{WebIO.DOM}(WebIO.DOM(:html, :p), Any[], Dict{Symbol,Any}(:attributes => Dict(\"data-bind\" => \"text: formatted_val\")))], Dict{Symbol,Any}(:className => \"interact-flex-row-right\"))], Dict{Symbol,Any}(:className => \"interact-flex-row interact-widget\")), Dict{String,Tuple{Observables.AbstractObservable,Union{Nothing, Bool}}}(\"changes\" => (Observable{Int64} with 1 listeners. Value:\n",
       "0, nothing),\"index\" => (Observable{Any} with 2 listeners. Value:\n",
       "26, nothing)), Set(String[]), nothing, Asset[Asset(\"js\", \"knockout\", \"C:\\\\Users\\\\sayeg\\\\.julia\\\\packages\\\\Knockout\\\\IP1uR\\\\src\\\\..\\\\assets\\\\knockout.js\"), Asset(\"js\", \"knockout_punches\", \"C:\\\\Users\\\\sayeg\\\\.julia\\\\packages\\\\Knockout\\\\IP1uR\\\\src\\\\..\\\\assets\\\\knockout_punches.js\"), Asset(\"js\", nothing, \"C:\\\\Users\\\\sayeg\\\\.julia\\\\packages\\\\InteractBase\\\\sOe2Z\\\\src\\\\..\\\\assets\\\\all.js\"), Asset(\"css\", nothing, \"C:\\\\Users\\\\sayeg\\\\.julia\\\\packages\\\\InteractBase\\\\sOe2Z\\\\src\\\\..\\\\assets\\\\style.css\"), Asset(\"css\", nothing, \"C:\\\\Users\\\\sayeg\\\\.julia\\\\packages\\\\Interact\\\\SbgIk\\\\src\\\\..\\\\assets\\\\bulma_confined.min.css\")], Dict{Any,Any}(\"changes\" => Any[WebIO.JSString(\"(function (val){return (val!=this.model[\\\"changes\\\"]()) ? (this.valueFromJulia[\\\"changes\\\"]=true, this.model[\\\"changes\\\"](val)) : undefined})\")],\"index\" => Any[WebIO.JSString(\"(function (val){return (val!=this.model[\\\"index\\\"]()) ? (this.valueFromJulia[\\\"index\\\"]=true, this.model[\\\"index\\\"](val)) : undefined})\")]), WebIO.ConnectionPool(Channel{Any}(sz_max:32,sz_curr:0), Set(AbstractConnection[]), Base.GenericCondition{Base.AlwaysLockedST}(Base.InvasiveLinkedList{Task}(Task (runnable) @0x000000001335ab30, Task (runnable) @0x000000001335ab30), Base.AlwaysLockedST(1))), WebIO.JSString[WebIO.JSString(\"function () {\\n    var handler = (function (ko, koPunches) {\\n    ko.punches.enableAll();\\n    ko.bindingHandlers.numericValue = {\\n        init: function(element, valueAccessor, allBindings, data, context) {\\n            var stringified = ko.observable(ko.unwrap(valueAccessor()));\\n            stringified.subscribe(function(value) {\\n                var val = parseFloat(value);\\n                if (!isNaN(val)) {\\n                    valueAccessor()(val);\\n                }\\n            });\\n            valueAccessor().subscribe(function(value) {\\n                var str = JSON.stringify(value);\\n                if ((str == \\\"0\\\") && ([\\\"-0\\\", \\\"-0.\\\"].indexOf(stringified()) >= 0))\\n                     return;\\n                 if ([\\\"null\\\", \\\"\\\"].indexOf(str) >= 0)\\n                     return;\\n                stringified(str);\\n            });\\n            ko.applyBindingsToNode(\\n                element,\\n                {\\n                    value: stringified,\\n                    valueUpdate: allBindings.get('valueUpdate'),\\n                },\\n                context,\\n            );\\n        }\\n    };\\n    var json_data = {\\\"formatted_vals\\\":[\\\"0.1\\\",\\\"0.298\\\",\\\"0.496\\\",\\\"0.694\\\",\\\"0.892\\\",\\\"1.09\\\",\\\"1.288\\\",\\\"1.486\\\",\\\"1.684\\\",\\\"1.882\\\",\\\"2.08\\\",\\\"2.278\\\",\\\"2.476\\\",\\\"2.674\\\",\\\"2.872\\\",\\\"3.07\\\",\\\"3.268\\\",\\\"3.466\\\",\\\"3.664\\\",\\\"3.862\\\",\\\"4.06\\\",\\\"4.258\\\",\\\"4.456\\\",\\\"4.654\\\",\\\"4.852\\\",\\\"5.05\\\",\\\"5.248\\\",\\\"5.446\\\",\\\"5.644\\\",\\\"5.842\\\",\\\"6.04\\\",\\\"6.238\\\",\\\"6.436\\\",\\\"6.634\\\",\\\"6.832\\\",\\\"7.03\\\",\\\"7.228\\\",\\\"7.426\\\",\\\"7.624\\\",\\\"7.822\\\",\\\"8.02\\\",\\\"8.218\\\",\\\"8.416\\\",\\\"8.614\\\",\\\"8.812\\\",\\\"9.01\\\",\\\"9.208\\\",\\\"9.406\\\",\\\"9.604\\\",\\\"9.802\\\",\\\"10.0\\\"],\\\"changes\\\":WebIO.getval({\\\"name\\\":\\\"changes\\\",\\\"scope\\\":\\\"5959029807927191311\\\",\\\"id\\\":\\\"3843765453045916981\\\",\\\"type\\\":\\\"observable\\\"}),\\\"index\\\":WebIO.getval({\\\"name\\\":\\\"index\\\",\\\"scope\\\":\\\"5959029807927191311\\\",\\\"id\\\":\\\"15602173742054399799\\\",\\\"type\\\":\\\"observable\\\"})};\\n    var self = this;\\n    function AppViewModel() {\\n        for (var key in json_data) {\\n            var el = json_data[key];\\n            this[key] = Array.isArray(el) ? ko.observableArray(el) : ko.observable(el);\\n        }\\n        \\n        [this[\\\"formatted_val\\\"]=ko.computed(    function(){\\n        return this.formatted_vals()[parseInt(this.index())-(1)];\\n    }\\n,this)]\\n        [this[\\\"changes\\\"].subscribe((function (val){!(this.valueFromJulia[\\\"changes\\\"]) ? (WebIO.setval({\\\"name\\\":\\\"changes\\\",\\\"scope\\\":\\\"5959029807927191311\\\",\\\"id\\\":\\\"3843765453045916981\\\",\\\"type\\\":\\\"observable\\\"},val)) : undefined; return this.valueFromJulia[\\\"changes\\\"]=false}),self),this[\\\"index\\\"].subscribe((function (val){!(this.valueFromJulia[\\\"index\\\"]) ? (WebIO.setval({\\\"name\\\":\\\"index\\\",\\\"scope\\\":\\\"5959029807927191311\\\",\\\"id\\\":\\\"15602173742054399799\\\",\\\"type\\\":\\\"observable\\\"},val)) : undefined; return this.valueFromJulia[\\\"index\\\"]=false}),self)]\\n        \\n    }\\n    self.model = new AppViewModel();\\n    self.valueFromJulia = {};\\n    for (var key in json_data) {\\n        self.valueFromJulia[key] = false;\\n    }\\n    ko.applyBindings(self.model, self.dom);\\n}\\n);\\n    (WebIO.importBlock({\\\"data\\\":[{\\\"name\\\":\\\"knockout\\\",\\\"type\\\":\\\"js\\\",\\\"url\\\":\\\"/assetserver/7ce5fb94901cd9817b0d2f5c55656bbbc8077c10-knockout.js\\\"},{\\\"name\\\":\\\"knockout_punches\\\",\\\"type\\\":\\\"js\\\",\\\"url\\\":\\\"/assetserver/bd9fbe3cc592c27356f31921aa080f1c09d2cb5d-knockout_punches.js\\\"}],\\\"type\\\":\\\"async_block\\\"})).then((imports) => handler.apply(this, imports));\\n}\\n\")])], Dict{Symbol,Any}(:className => \"field interact-widget\")), Observable{Any} with 0 listeners. Value:\n",
       "Node{WebIO.DOM}(WebIO.DOM(:html, :div), Any[Plot{Plots.GRBackend() n=1}], Dict{Symbol,Any}(:className => \"interact-flex-row interact-widget\"))], Dict{Symbol,Any}())"
      ]
     },
     "execution_count": 10,
     "metadata": {
      "@webio": {
       "kernelId": "3e3b55f7-ba9e-40c6-b38f-9de806b52692"
      }
     },
     "output_type": "execute_result"
    }
   ],
   "source": [
    "xs = range(0,stop=25,length=201)\n",
    "k = 7.5\n",
    "theta =2\n",
    "@manipulate for k in range(0.5,stop=20,length=51), theta in range(0.1,stop=10,length=51)\n",
    "    f = Distributions.Gamma(k,theta)\n",
    "    ys = [Distributions.pdf(f,x) for x in xs]\n",
    "    p = plot(xs,ys)\n",
    "    ylims!(0,0.2)\n",
    "    p\n",
    "end"
   ]
  },
  {
   "cell_type": "code",
   "execution_count": null,
   "metadata": {},
   "outputs": [],
   "source": [
    "xs = range(0,stop=25,length=100)\n",
    "k = 7.5\n",
    "theta =2\n",
    "@manipulate for k in range(0.5,stop=10,length=51), theta in range(0.1,stop=3,length=51)\n",
    "    f = Distributions.Gamma(k,theta)\n",
    "    ys = [Distributions.pdf(f,x) for x in xs]\n",
    "    p = plot(xs,ys)\n",
    "    ylims!(0,0.2)\n",
    "    p\n",
    "end"
   ]
  }
 ],
 "metadata": {
  "@webio": {
   "lastCommId": "17571c94-10c1-4d5f-a133-ae7091582276",
   "lastKernelId": "3e3b55f7-ba9e-40c6-b38f-9de806b52692"
  },
  "kernelspec": {
   "display_name": "Julia 1.4.2",
   "language": "julia",
   "name": "julia-1.4"
  },
  "language_info": {
   "file_extension": ".jl",
   "mimetype": "application/julia",
   "name": "julia",
   "version": "1.4.2"
  }
 },
 "nbformat": 4,
 "nbformat_minor": 4
}
